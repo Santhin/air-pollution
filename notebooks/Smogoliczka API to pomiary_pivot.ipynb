{
 "cells": [
  {
   "cell_type": "code",
   "execution_count": 1,
   "metadata": {
    "ExecuteTime": {
     "end_time": "2021-01-24T16:50:18.841204Z",
     "start_time": "2021-01-24T16:50:17.313211Z"
    }
   },
   "outputs": [],
   "source": [
    "import sqlalchemy as sa\n",
    "import urllib\n",
    "import pandas as pd\n",
    "import pickle5 as pickle\n",
    "from tqdm import tqdm\n",
    "import dask.dataframe as dd\n",
    "from datetime import datetime\n",
    "\n",
    "pd.set_option('display.max_columns', None)\n",
    "pd.set_option('display.max_rows', None)"
   ]
  },
  {
   "cell_type": "code",
   "execution_count": 2,
   "metadata": {
    "ExecuteTime": {
     "end_time": "2021-01-24T16:50:21.397018Z",
     "start_time": "2021-01-24T16:50:19.922018Z"
    }
   },
   "outputs": [
    {
     "data": {
      "text/html": [
       "<div>\n",
       "<style scoped>\n",
       "    .dataframe tbody tr th:only-of-type {\n",
       "        vertical-align: middle;\n",
       "    }\n",
       "\n",
       "    .dataframe tbody tr th {\n",
       "        vertical-align: top;\n",
       "    }\n",
       "\n",
       "    .dataframe thead th {\n",
       "        text-align: right;\n",
       "    }\n",
       "</style>\n",
       "<table border=\"1\" class=\"dataframe\">\n",
       "  <thead>\n",
       "    <tr style=\"text-align: right;\">\n",
       "      <th></th>\n",
       "      <th>Nr</th>\n",
       "      <th>KodStanowiska</th>\n",
       "      <th>KodStacji</th>\n",
       "      <th>NazwaStacji</th>\n",
       "      <th>StaryKodStacji</th>\n",
       "      <th>WskaznikKod</th>\n",
       "      <th>Wskaznik</th>\n",
       "      <th>CzasUsredniania</th>\n",
       "      <th>TypPomiaru</th>\n",
       "      <th>DataUruchomienia</th>\n",
       "      <th>DataZamkniecia</th>\n",
       "      <th>Wojewodztwo</th>\n",
       "      <th>NazwaStrefy</th>\n",
       "    </tr>\n",
       "  </thead>\n",
       "  <tbody>\n",
       "    <tr>\n",
       "      <th>0</th>\n",
       "      <td>1</td>\n",
       "      <td>DsBialka-CO-1g</td>\n",
       "      <td>DsBialka</td>\n",
       "      <td>Białka</td>\n",
       "      <td>DsBialka</td>\n",
       "      <td>CO</td>\n",
       "      <td>tlenek węgla</td>\n",
       "      <td>1-godzinny</td>\n",
       "      <td>automatyczny</td>\n",
       "      <td>2004-01-01</td>\n",
       "      <td>2005-12-31</td>\n",
       "      <td>DOLNOŚLĄSKIE</td>\n",
       "      <td>strefa dolnośląska</td>\n",
       "    </tr>\n",
       "    <tr>\n",
       "      <th>1</th>\n",
       "      <td>2</td>\n",
       "      <td>DsBialka-PM10-1g</td>\n",
       "      <td>DsBialka</td>\n",
       "      <td>Białka</td>\n",
       "      <td>DsBialka</td>\n",
       "      <td>PM10</td>\n",
       "      <td>pył zawieszony PM10</td>\n",
       "      <td>1-godzinny</td>\n",
       "      <td>automatyczny</td>\n",
       "      <td>2004-01-01</td>\n",
       "      <td>2005-12-31</td>\n",
       "      <td>DOLNOŚLĄSKIE</td>\n",
       "      <td>strefa dolnośląska</td>\n",
       "    </tr>\n",
       "    <tr>\n",
       "      <th>2</th>\n",
       "      <td>3</td>\n",
       "      <td>DsBialka-SO2-1g</td>\n",
       "      <td>DsBialka</td>\n",
       "      <td>Białka</td>\n",
       "      <td>DsBialka</td>\n",
       "      <td>SO2</td>\n",
       "      <td>dwutlenek siarki</td>\n",
       "      <td>1-godzinny</td>\n",
       "      <td>automatyczny</td>\n",
       "      <td>2004-01-01</td>\n",
       "      <td>2005-12-31</td>\n",
       "      <td>DOLNOŚLĄSKIE</td>\n",
       "      <td>strefa dolnośląska</td>\n",
       "    </tr>\n",
       "    <tr>\n",
       "      <th>3</th>\n",
       "      <td>4</td>\n",
       "      <td>DsBialka-PM10-24g</td>\n",
       "      <td>DsBialka</td>\n",
       "      <td>Białka</td>\n",
       "      <td>DsBialka</td>\n",
       "      <td>PM10</td>\n",
       "      <td>pył zawieszony PM10</td>\n",
       "      <td>24-godzinny</td>\n",
       "      <td>manualny</td>\n",
       "      <td>2004-01-01</td>\n",
       "      <td>2005-12-31</td>\n",
       "      <td>DOLNOŚLĄSKIE</td>\n",
       "      <td>strefa dolnośląska</td>\n",
       "    </tr>\n",
       "    <tr>\n",
       "      <th>4</th>\n",
       "      <td>5</td>\n",
       "      <td>DsBialka-Pb(PM10)-24g</td>\n",
       "      <td>DsBialka</td>\n",
       "      <td>Białka</td>\n",
       "      <td>DsBialka</td>\n",
       "      <td>Pb(PM10)</td>\n",
       "      <td>ołów w PM10</td>\n",
       "      <td>24-godzinny</td>\n",
       "      <td>manualny</td>\n",
       "      <td>1990-01-03</td>\n",
       "      <td>2005-12-31</td>\n",
       "      <td>DOLNOŚLĄSKIE</td>\n",
       "      <td>strefa dolnośląska</td>\n",
       "    </tr>\n",
       "  </tbody>\n",
       "</table>\n",
       "</div>"
      ],
      "text/plain": [
       "   Nr          KodStanowiska KodStacji NazwaStacji StaryKodStacji WskaznikKod  \\\n",
       "0   1         DsBialka-CO-1g  DsBialka      Białka       DsBialka          CO   \n",
       "1   2       DsBialka-PM10-1g  DsBialka      Białka       DsBialka        PM10   \n",
       "2   3        DsBialka-SO2-1g  DsBialka      Białka       DsBialka         SO2   \n",
       "3   4      DsBialka-PM10-24g  DsBialka      Białka       DsBialka        PM10   \n",
       "4   5  DsBialka-Pb(PM10)-24g  DsBialka      Białka       DsBialka    Pb(PM10)   \n",
       "\n",
       "              Wskaznik CzasUsredniania    TypPomiaru DataUruchomienia  \\\n",
       "0         tlenek węgla      1-godzinny  automatyczny       2004-01-01   \n",
       "1  pył zawieszony PM10      1-godzinny  automatyczny       2004-01-01   \n",
       "2     dwutlenek siarki      1-godzinny  automatyczny       2004-01-01   \n",
       "3  pył zawieszony PM10     24-godzinny      manualny       2004-01-01   \n",
       "4          ołów w PM10     24-godzinny      manualny       1990-01-03   \n",
       "\n",
       "  DataZamkniecia   Wojewodztwo         NazwaStrefy  \n",
       "0     2005-12-31  DOLNOŚLĄSKIE  strefa dolnośląska  \n",
       "1     2005-12-31  DOLNOŚLĄSKIE  strefa dolnośląska  \n",
       "2     2005-12-31  DOLNOŚLĄSKIE  strefa dolnośląska  \n",
       "3     2005-12-31  DOLNOŚLĄSKIE  strefa dolnośląska  \n",
       "4     2005-12-31  DOLNOŚLĄSKIE  strefa dolnośląska  "
      ]
     },
     "execution_count": 2,
     "metadata": {},
     "output_type": "execute_result"
    }
   ],
   "source": [
    "# Słowniki SmogoliczkaArchives\n",
    "metadane_STANOWISKA = pd.read_excel(\n",
    "    \"./dictionaries/Metadane - stacje i stanowiska pomiarowe.xlsx\", sheet_name='STANOWISKA')\n",
    "metadane_STANOWISKA.head(5)"
   ]
  },
  {
   "cell_type": "code",
   "execution_count": 3,
   "metadata": {
    "ExecuteTime": {
     "end_time": "2021-01-24T16:50:22.780016Z",
     "start_time": "2021-01-24T16:50:21.399019Z"
    },
    "scrolled": true
   },
   "outputs": [
    {
     "data": {
      "text/html": [
       "<div>\n",
       "<style scoped>\n",
       "    .dataframe tbody tr th:only-of-type {\n",
       "        vertical-align: middle;\n",
       "    }\n",
       "\n",
       "    .dataframe tbody tr th {\n",
       "        vertical-align: top;\n",
       "    }\n",
       "\n",
       "    .dataframe thead th {\n",
       "        text-align: right;\n",
       "    }\n",
       "</style>\n",
       "<table border=\"1\" class=\"dataframe\">\n",
       "  <thead>\n",
       "    <tr style=\"text-align: right;\">\n",
       "      <th></th>\n",
       "      <th>Nr</th>\n",
       "      <th>KodStacji</th>\n",
       "      <th>KodMiedzynarodowy</th>\n",
       "      <th>NazwaStacji</th>\n",
       "      <th>StaryKodStacji</th>\n",
       "      <th>DataUruchomienia</th>\n",
       "      <th>DataZamkniecia</th>\n",
       "      <th>TypStacji</th>\n",
       "      <th>TypObszaru</th>\n",
       "      <th>RodzajStacji</th>\n",
       "      <th>Wojewodztwo</th>\n",
       "      <th>Miejscowosc</th>\n",
       "      <th>Ulica</th>\n",
       "      <th>Latitude</th>\n",
       "      <th>Longitude</th>\n",
       "    </tr>\n",
       "  </thead>\n",
       "  <tbody>\n",
       "    <tr>\n",
       "      <th>0</th>\n",
       "      <td>1</td>\n",
       "      <td>DsBialka</td>\n",
       "      <td>NaN</td>\n",
       "      <td>Białka</td>\n",
       "      <td>DsBialka</td>\n",
       "      <td>1990-01-03</td>\n",
       "      <td>2005-12-31</td>\n",
       "      <td>przemysłowa</td>\n",
       "      <td>podmiejski</td>\n",
       "      <td>kontenerowa stacjonarna</td>\n",
       "      <td>DOLNOŚLĄSKIE</td>\n",
       "      <td>Białka</td>\n",
       "      <td>NaN</td>\n",
       "      <td>51.197783</td>\n",
       "      <td>16.117390</td>\n",
       "    </tr>\n",
       "    <tr>\n",
       "      <th>1</th>\n",
       "      <td>2</td>\n",
       "      <td>DsBielGrot</td>\n",
       "      <td>NaN</td>\n",
       "      <td>Bielawa - ul. Grota Roweckiego</td>\n",
       "      <td>DsBielGrot</td>\n",
       "      <td>1994-01-02</td>\n",
       "      <td>2003-12-31</td>\n",
       "      <td>tło</td>\n",
       "      <td>miejski</td>\n",
       "      <td>w budynku</td>\n",
       "      <td>DOLNOŚLĄSKIE</td>\n",
       "      <td>Bielawa</td>\n",
       "      <td>ul. Grota Roweckiego 6</td>\n",
       "      <td>50.682510</td>\n",
       "      <td>16.617348</td>\n",
       "    </tr>\n",
       "    <tr>\n",
       "      <th>2</th>\n",
       "      <td>3</td>\n",
       "      <td>DsBogatFrancMOB</td>\n",
       "      <td>PL0602A</td>\n",
       "      <td>Bogatynia Mobil</td>\n",
       "      <td>DsBogatMob</td>\n",
       "      <td>2015-01-01</td>\n",
       "      <td>2015-12-31</td>\n",
       "      <td>tło</td>\n",
       "      <td>miejski</td>\n",
       "      <td>mobilna</td>\n",
       "      <td>DOLNOŚLĄSKIE</td>\n",
       "      <td>Bogatynia</td>\n",
       "      <td>ul. Francuska/Kręta</td>\n",
       "      <td>50.940998</td>\n",
       "      <td>14.916790</td>\n",
       "    </tr>\n",
       "    <tr>\n",
       "      <th>3</th>\n",
       "      <td>4</td>\n",
       "      <td>DsBogChop</td>\n",
       "      <td>PL0315A</td>\n",
       "      <td>Bogatynia - Chopina</td>\n",
       "      <td>DsBogChop</td>\n",
       "      <td>1996-01-01</td>\n",
       "      <td>2013-12-31</td>\n",
       "      <td>przemysłowa</td>\n",
       "      <td>miejski</td>\n",
       "      <td>kontenerowa stacjonarna</td>\n",
       "      <td>DOLNOŚLĄSKIE</td>\n",
       "      <td>Bogatynia</td>\n",
       "      <td>ul. Chopina 35</td>\n",
       "      <td>50.905856</td>\n",
       "      <td>14.967175</td>\n",
       "    </tr>\n",
       "    <tr>\n",
       "      <th>4</th>\n",
       "      <td>5</td>\n",
       "      <td>DsBogZatonieMob</td>\n",
       "      <td>PL0576A</td>\n",
       "      <td>Bogatynia - Mobil</td>\n",
       "      <td>DsBogZatonieMob</td>\n",
       "      <td>2012-01-01</td>\n",
       "      <td>2012-12-31</td>\n",
       "      <td>przemysłowa</td>\n",
       "      <td>miejski</td>\n",
       "      <td>mobilna</td>\n",
       "      <td>DOLNOŚLĄSKIE</td>\n",
       "      <td>Bogatynia</td>\n",
       "      <td>ul. Konrada, Zatonie</td>\n",
       "      <td>50.943245</td>\n",
       "      <td>14.913327</td>\n",
       "    </tr>\n",
       "  </tbody>\n",
       "</table>\n",
       "</div>"
      ],
      "text/plain": [
       "   Nr        KodStacji KodMiedzynarodowy                     NazwaStacji  \\\n",
       "0   1         DsBialka               NaN                          Białka   \n",
       "1   2       DsBielGrot               NaN  Bielawa - ul. Grota Roweckiego   \n",
       "2   3  DsBogatFrancMOB           PL0602A                 Bogatynia Mobil   \n",
       "3   4        DsBogChop           PL0315A             Bogatynia - Chopina   \n",
       "4   5  DsBogZatonieMob           PL0576A               Bogatynia - Mobil   \n",
       "\n",
       "    StaryKodStacji DataUruchomienia DataZamkniecia    TypStacji  TypObszaru  \\\n",
       "0         DsBialka       1990-01-03     2005-12-31  przemysłowa  podmiejski   \n",
       "1       DsBielGrot       1994-01-02     2003-12-31          tło     miejski   \n",
       "2       DsBogatMob       2015-01-01     2015-12-31          tło     miejski   \n",
       "3        DsBogChop       1996-01-01     2013-12-31  przemysłowa     miejski   \n",
       "4  DsBogZatonieMob       2012-01-01     2012-12-31  przemysłowa     miejski   \n",
       "\n",
       "              RodzajStacji   Wojewodztwo Miejscowosc                   Ulica  \\\n",
       "0  kontenerowa stacjonarna  DOLNOŚLĄSKIE      Białka                     NaN   \n",
       "1                w budynku  DOLNOŚLĄSKIE     Bielawa  ul. Grota Roweckiego 6   \n",
       "2                  mobilna  DOLNOŚLĄSKIE   Bogatynia     ul. Francuska/Kręta   \n",
       "3  kontenerowa stacjonarna  DOLNOŚLĄSKIE   Bogatynia          ul. Chopina 35   \n",
       "4                  mobilna  DOLNOŚLĄSKIE   Bogatynia    ul. Konrada, Zatonie   \n",
       "\n",
       "    Latitude  Longitude  \n",
       "0  51.197783  16.117390  \n",
       "1  50.682510  16.617348  \n",
       "2  50.940998  14.916790  \n",
       "3  50.905856  14.967175  \n",
       "4  50.943245  14.913327  "
      ]
     },
     "execution_count": 3,
     "metadata": {},
     "output_type": "execute_result"
    }
   ],
   "source": [
    "metadane_STACJE=pd.read_excel(\"./dictionaries/Metadane - stacje i stanowiska pomiarowe.xlsx\",sheet_name='STACJE')\n",
    "metadane_STACJE.head(5)"
   ]
  },
  {
   "cell_type": "code",
   "execution_count": 4,
   "metadata": {
    "ExecuteTime": {
     "end_time": "2021-01-24T16:50:22.812018Z",
     "start_time": "2021-01-24T16:50:22.783016Z"
    }
   },
   "outputs": [
    {
     "data": {
      "text/html": [
       "<div>\n",
       "<style scoped>\n",
       "    .dataframe tbody tr th:only-of-type {\n",
       "        vertical-align: middle;\n",
       "    }\n",
       "\n",
       "    .dataframe tbody tr th {\n",
       "        vertical-align: top;\n",
       "    }\n",
       "\n",
       "    .dataframe thead th {\n",
       "        text-align: right;\n",
       "    }\n",
       "</style>\n",
       "<table border=\"1\" class=\"dataframe\">\n",
       "  <thead>\n",
       "    <tr style=\"text-align: right;\">\n",
       "      <th></th>\n",
       "      <th>idstacji</th>\n",
       "      <th>NazwaStacji</th>\n",
       "      <th>SzerGeo</th>\n",
       "      <th>DlugGeo</th>\n",
       "      <th>IdMiasta</th>\n",
       "      <th>Miasto</th>\n",
       "      <th>Gmina</th>\n",
       "      <th>Powiat</th>\n",
       "      <th>Wojewodztwo</th>\n",
       "      <th>lokalizacja</th>\n",
       "    </tr>\n",
       "  </thead>\n",
       "  <tbody>\n",
       "    <tr>\n",
       "      <th>0</th>\n",
       "      <td>11</td>\n",
       "      <td>Czerniawa</td>\n",
       "      <td>50.912475</td>\n",
       "      <td>15.312190</td>\n",
       "      <td>142</td>\n",
       "      <td>Czerniawa</td>\n",
       "      <td>Świeradów-Zdrój</td>\n",
       "      <td>lubański</td>\n",
       "      <td>DOLNOŚLĄSKIE</td>\n",
       "      <td>0xE6100000010CC746205ED79F2E4074B515FBCB744940</td>\n",
       "    </tr>\n",
       "    <tr>\n",
       "      <th>1</th>\n",
       "      <td>14</td>\n",
       "      <td>Działoszyn</td>\n",
       "      <td>50.972167</td>\n",
       "      <td>14.941319</td>\n",
       "      <td>192</td>\n",
       "      <td>Działoszyn</td>\n",
       "      <td>Bogatynia</td>\n",
       "      <td>zgorzelecki</td>\n",
       "      <td>DOLNOŚLĄSKIE</td>\n",
       "      <td>0xE6100000010CF4346090F4E12D400EA0DFF76F7C4940</td>\n",
       "    </tr>\n",
       "    <tr>\n",
       "      <th>2</th>\n",
       "      <td>16</td>\n",
       "      <td>Dzierżoniów - Piłsudskiego</td>\n",
       "      <td>50.732817</td>\n",
       "      <td>16.648050</td>\n",
       "      <td>198</td>\n",
       "      <td>Dzierżoniów</td>\n",
       "      <td>Dzierżoniów</td>\n",
       "      <td>dzierżoniowski</td>\n",
       "      <td>DOLNOŚLĄSKIE</td>\n",
       "      <td>0xE6100000010C3D2CD49AE6A53040F6798CF2CC5D4940</td>\n",
       "    </tr>\n",
       "    <tr>\n",
       "      <th>3</th>\n",
       "      <td>38</td>\n",
       "      <td>Kłodzko - Szkolna</td>\n",
       "      <td>50.433493</td>\n",
       "      <td>16.653660</td>\n",
       "      <td>368</td>\n",
       "      <td>Kłodzko</td>\n",
       "      <td>Kłodzko</td>\n",
       "      <td>kłodzki</td>\n",
       "      <td>DOLNOŚLĄSKIE</td>\n",
       "      <td>0xE6100000010C0FB4024356A73040C005D9B27C374940</td>\n",
       "    </tr>\n",
       "    <tr>\n",
       "      <th>4</th>\n",
       "      <td>52</td>\n",
       "      <td>Legnica - Rzeczypospolitej</td>\n",
       "      <td>51.204503</td>\n",
       "      <td>16.180513</td>\n",
       "      <td>453</td>\n",
       "      <td>Legnica</td>\n",
       "      <td>Legnica</td>\n",
       "      <td>Legnica</td>\n",
       "      <td>DOLNOŚLĄSKIE</td>\n",
       "      <td>0xE6100000010CBB809719362E30408A7780272D9A4940</td>\n",
       "    </tr>\n",
       "  </tbody>\n",
       "</table>\n",
       "</div>"
      ],
      "text/plain": [
       "   idstacji                 NazwaStacji    SzerGeo    DlugGeo  IdMiasta  \\\n",
       "0        11                   Czerniawa  50.912475  15.312190       142   \n",
       "1        14                  Działoszyn  50.972167  14.941319       192   \n",
       "2        16  Dzierżoniów - Piłsudskiego  50.732817  16.648050       198   \n",
       "3        38           Kłodzko - Szkolna  50.433493  16.653660       368   \n",
       "4        52  Legnica - Rzeczypospolitej  51.204503  16.180513       453   \n",
       "\n",
       "        Miasto            Gmina          Powiat   Wojewodztwo  \\\n",
       "0    Czerniawa  Świeradów-Zdrój        lubański  DOLNOŚLĄSKIE   \n",
       "1   Działoszyn        Bogatynia     zgorzelecki  DOLNOŚLĄSKIE   \n",
       "2  Dzierżoniów      Dzierżoniów  dzierżoniowski  DOLNOŚLĄSKIE   \n",
       "3      Kłodzko          Kłodzko         kłodzki  DOLNOŚLĄSKIE   \n",
       "4      Legnica          Legnica         Legnica  DOLNOŚLĄSKIE   \n",
       "\n",
       "                                      lokalizacja  \n",
       "0  0xE6100000010CC746205ED79F2E4074B515FBCB744940  \n",
       "1  0xE6100000010CF4346090F4E12D400EA0DFF76F7C4940  \n",
       "2  0xE6100000010C3D2CD49AE6A53040F6798CF2CC5D4940  \n",
       "3  0xE6100000010C0FB4024356A73040C005D9B27C374940  \n",
       "4  0xE6100000010CBB809719362E30408A7780272D9A4940  "
      ]
     },
     "execution_count": 4,
     "metadata": {},
     "output_type": "execute_result"
    }
   ],
   "source": [
    "#Wczytujemy słownik StacjePomiarowe - sql\n",
    "StacjePomiarowe_dict=pd.read_csv(\"./dictionaries/stacjeSmogoliczka.csv\",sep=';')\n",
    "StacjePomiarowe_dict.head()"
   ]
  },
  {
   "cell_type": "code",
   "execution_count": 5,
   "metadata": {
    "ExecuteTime": {
     "end_time": "2021-01-24T16:50:22.858019Z",
     "start_time": "2021-01-24T16:50:22.814018Z"
    }
   },
   "outputs": [
    {
     "data": {
      "text/html": [
       "<div>\n",
       "<style scoped>\n",
       "    .dataframe tbody tr th:only-of-type {\n",
       "        vertical-align: middle;\n",
       "    }\n",
       "\n",
       "    .dataframe tbody tr th {\n",
       "        vertical-align: top;\n",
       "    }\n",
       "\n",
       "    .dataframe thead th {\n",
       "        text-align: right;\n",
       "    }\n",
       "</style>\n",
       "<table border=\"1\" class=\"dataframe\">\n",
       "  <thead>\n",
       "    <tr style=\"text-align: right;\">\n",
       "      <th></th>\n",
       "      <th>idstacji</th>\n",
       "      <th>NazwaStacji</th>\n",
       "      <th>SzerGeo</th>\n",
       "      <th>DlugGeo</th>\n",
       "      <th>IdMiasta</th>\n",
       "      <th>Miasto</th>\n",
       "      <th>Gmina</th>\n",
       "      <th>Powiat</th>\n",
       "      <th>Wojewodztwo_x</th>\n",
       "      <th>lokalizacja</th>\n",
       "      <th>Nr</th>\n",
       "      <th>KodStacji</th>\n",
       "      <th>KodMiedzynarodowy</th>\n",
       "      <th>StaryKodStacji</th>\n",
       "      <th>DataUruchomienia</th>\n",
       "      <th>DataZamkniecia</th>\n",
       "      <th>TypStacji</th>\n",
       "      <th>TypObszaru</th>\n",
       "      <th>RodzajStacji</th>\n",
       "      <th>Wojewodztwo_y</th>\n",
       "      <th>Miejscowosc</th>\n",
       "      <th>Ulica</th>\n",
       "      <th>Latitude</th>\n",
       "      <th>Longitude</th>\n",
       "    </tr>\n",
       "  </thead>\n",
       "  <tbody>\n",
       "    <tr>\n",
       "      <th>0</th>\n",
       "      <td>11</td>\n",
       "      <td>Czerniawa</td>\n",
       "      <td>50.912475</td>\n",
       "      <td>15.312190</td>\n",
       "      <td>142</td>\n",
       "      <td>Czerniawa</td>\n",
       "      <td>Świeradów-Zdrój</td>\n",
       "      <td>lubański</td>\n",
       "      <td>DOLNOŚLĄSKIE</td>\n",
       "      <td>0xE6100000010CC746205ED79F2E4074B515FBCB744940</td>\n",
       "      <td>10.0</td>\n",
       "      <td>DsCzerStraza</td>\n",
       "      <td>PL0028A</td>\n",
       "      <td>DsCzer02</td>\n",
       "      <td>1996-07-01</td>\n",
       "      <td>NaT</td>\n",
       "      <td>tło</td>\n",
       "      <td>pozamiejski</td>\n",
       "      <td>kontenerowa stacjonarna</td>\n",
       "      <td>DOLNOŚLĄSKIE</td>\n",
       "      <td>Czerniawa</td>\n",
       "      <td>ul. Strażacka 7</td>\n",
       "      <td>50.912475</td>\n",
       "      <td>15.312190</td>\n",
       "    </tr>\n",
       "    <tr>\n",
       "      <th>1</th>\n",
       "      <td>14</td>\n",
       "      <td>Działoszyn</td>\n",
       "      <td>50.972167</td>\n",
       "      <td>14.941319</td>\n",
       "      <td>192</td>\n",
       "      <td>Działoszyn</td>\n",
       "      <td>Bogatynia</td>\n",
       "      <td>zgorzelecki</td>\n",
       "      <td>DOLNOŚLĄSKIE</td>\n",
       "      <td>0xE6100000010CF4346090F4E12D400EA0DFF76F7C4940</td>\n",
       "      <td>14.0</td>\n",
       "      <td>DsDzialoszyn</td>\n",
       "      <td>PL0054A</td>\n",
       "      <td>DsDzia01</td>\n",
       "      <td>1996-07-01</td>\n",
       "      <td>NaT</td>\n",
       "      <td>przemysłowa</td>\n",
       "      <td>pozamiejski</td>\n",
       "      <td>kontenerowa stacjonarna</td>\n",
       "      <td>DOLNOŚLĄSKIE</td>\n",
       "      <td>Działoszyn</td>\n",
       "      <td>bez ulicy</td>\n",
       "      <td>50.972167</td>\n",
       "      <td>14.941319</td>\n",
       "    </tr>\n",
       "    <tr>\n",
       "      <th>2</th>\n",
       "      <td>16</td>\n",
       "      <td>Dzierżoniów - Piłsudskiego</td>\n",
       "      <td>50.732817</td>\n",
       "      <td>16.648050</td>\n",
       "      <td>198</td>\n",
       "      <td>Dzierżoniów</td>\n",
       "      <td>Dzierżoniów</td>\n",
       "      <td>dzierżoniowski</td>\n",
       "      <td>DOLNOŚLĄSKIE</td>\n",
       "      <td>0xE6100000010C3D2CD49AE6A53040F6798CF2CC5D4940</td>\n",
       "      <td>15.0</td>\n",
       "      <td>DsDziePilsud</td>\n",
       "      <td>PL0187A</td>\n",
       "      <td>DsDzierPilsA</td>\n",
       "      <td>2005-01-01</td>\n",
       "      <td>NaT</td>\n",
       "      <td>tło</td>\n",
       "      <td>miejski</td>\n",
       "      <td>kontenerowa stacjonarna</td>\n",
       "      <td>DOLNOŚLĄSKIE</td>\n",
       "      <td>Dzierżoniów</td>\n",
       "      <td>ul. Piłsudskiego 26</td>\n",
       "      <td>50.732817</td>\n",
       "      <td>16.648050</td>\n",
       "    </tr>\n",
       "    <tr>\n",
       "      <th>3</th>\n",
       "      <td>38</td>\n",
       "      <td>Kłodzko - Szkolna</td>\n",
       "      <td>50.433493</td>\n",
       "      <td>16.653660</td>\n",
       "      <td>368</td>\n",
       "      <td>Kłodzko</td>\n",
       "      <td>Kłodzko</td>\n",
       "      <td>kłodzki</td>\n",
       "      <td>DOLNOŚLĄSKIE</td>\n",
       "      <td>0xE6100000010C0FB4024356A73040C005D9B27C374940</td>\n",
       "      <td>44.0</td>\n",
       "      <td>DsKlodzSzkol</td>\n",
       "      <td>PL0504A</td>\n",
       "      <td>DsKlodzkoA</td>\n",
       "      <td>2009-06-05</td>\n",
       "      <td>NaT</td>\n",
       "      <td>tło</td>\n",
       "      <td>miejski</td>\n",
       "      <td>kontenerowa stacjonarna</td>\n",
       "      <td>DOLNOŚLĄSKIE</td>\n",
       "      <td>Kłodzko</td>\n",
       "      <td>ul. Szkolna 8</td>\n",
       "      <td>50.433493</td>\n",
       "      <td>16.653660</td>\n",
       "    </tr>\n",
       "    <tr>\n",
       "      <th>4</th>\n",
       "      <td>52</td>\n",
       "      <td>Legnica - Rzeczypospolitej</td>\n",
       "      <td>51.204503</td>\n",
       "      <td>16.180513</td>\n",
       "      <td>453</td>\n",
       "      <td>Legnica</td>\n",
       "      <td>Legnica</td>\n",
       "      <td>Legnica</td>\n",
       "      <td>DOLNOŚLĄSKIE</td>\n",
       "      <td>0xE6100000010CBB809719362E30408A7780272D9A4940</td>\n",
       "      <td>53.0</td>\n",
       "      <td>DsLegAlRzecz</td>\n",
       "      <td>PL0190A</td>\n",
       "      <td>DsLegRzeczA</td>\n",
       "      <td>2004-10-01</td>\n",
       "      <td>NaT</td>\n",
       "      <td>tło</td>\n",
       "      <td>miejski</td>\n",
       "      <td>kontenerowa stacjonarna</td>\n",
       "      <td>DOLNOŚLĄSKIE</td>\n",
       "      <td>Legnica</td>\n",
       "      <td>al. Rzeczypospolitej 10/12</td>\n",
       "      <td>51.204503</td>\n",
       "      <td>16.180513</td>\n",
       "    </tr>\n",
       "  </tbody>\n",
       "</table>\n",
       "</div>"
      ],
      "text/plain": [
       "   idstacji                 NazwaStacji    SzerGeo    DlugGeo  IdMiasta  \\\n",
       "0        11                   Czerniawa  50.912475  15.312190       142   \n",
       "1        14                  Działoszyn  50.972167  14.941319       192   \n",
       "2        16  Dzierżoniów - Piłsudskiego  50.732817  16.648050       198   \n",
       "3        38           Kłodzko - Szkolna  50.433493  16.653660       368   \n",
       "4        52  Legnica - Rzeczypospolitej  51.204503  16.180513       453   \n",
       "\n",
       "        Miasto            Gmina          Powiat Wojewodztwo_x  \\\n",
       "0    Czerniawa  Świeradów-Zdrój        lubański  DOLNOŚLĄSKIE   \n",
       "1   Działoszyn        Bogatynia     zgorzelecki  DOLNOŚLĄSKIE   \n",
       "2  Dzierżoniów      Dzierżoniów  dzierżoniowski  DOLNOŚLĄSKIE   \n",
       "3      Kłodzko          Kłodzko         kłodzki  DOLNOŚLĄSKIE   \n",
       "4      Legnica          Legnica         Legnica  DOLNOŚLĄSKIE   \n",
       "\n",
       "                                      lokalizacja    Nr     KodStacji  \\\n",
       "0  0xE6100000010CC746205ED79F2E4074B515FBCB744940  10.0  DsCzerStraza   \n",
       "1  0xE6100000010CF4346090F4E12D400EA0DFF76F7C4940  14.0  DsDzialoszyn   \n",
       "2  0xE6100000010C3D2CD49AE6A53040F6798CF2CC5D4940  15.0  DsDziePilsud   \n",
       "3  0xE6100000010C0FB4024356A73040C005D9B27C374940  44.0  DsKlodzSzkol   \n",
       "4  0xE6100000010CBB809719362E30408A7780272D9A4940  53.0  DsLegAlRzecz   \n",
       "\n",
       "  KodMiedzynarodowy StaryKodStacji DataUruchomienia DataZamkniecia  \\\n",
       "0           PL0028A       DsCzer02       1996-07-01            NaT   \n",
       "1           PL0054A       DsDzia01       1996-07-01            NaT   \n",
       "2           PL0187A   DsDzierPilsA       2005-01-01            NaT   \n",
       "3           PL0504A     DsKlodzkoA       2009-06-05            NaT   \n",
       "4           PL0190A    DsLegRzeczA       2004-10-01            NaT   \n",
       "\n",
       "     TypStacji   TypObszaru             RodzajStacji Wojewodztwo_y  \\\n",
       "0          tło  pozamiejski  kontenerowa stacjonarna  DOLNOŚLĄSKIE   \n",
       "1  przemysłowa  pozamiejski  kontenerowa stacjonarna  DOLNOŚLĄSKIE   \n",
       "2          tło      miejski  kontenerowa stacjonarna  DOLNOŚLĄSKIE   \n",
       "3          tło      miejski  kontenerowa stacjonarna  DOLNOŚLĄSKIE   \n",
       "4          tło      miejski  kontenerowa stacjonarna  DOLNOŚLĄSKIE   \n",
       "\n",
       "   Miejscowosc                       Ulica   Latitude  Longitude  \n",
       "0    Czerniawa             ul. Strażacka 7  50.912475  15.312190  \n",
       "1   Działoszyn                   bez ulicy  50.972167  14.941319  \n",
       "2  Dzierżoniów         ul. Piłsudskiego 26  50.732817  16.648050  \n",
       "3      Kłodzko               ul. Szkolna 8  50.433493  16.653660  \n",
       "4      Legnica  al. Rzeczypospolitej 10/12  51.204503  16.180513  "
      ]
     },
     "execution_count": 5,
     "metadata": {},
     "output_type": "execute_result"
    }
   ],
   "source": [
    "df_sql = pd.merge(StacjePomiarowe_dict, metadane_STACJE, left_on=['NazwaStacji'], right_on=['NazwaStacji'], how='left')\n",
    "df_sql.head()"
   ]
  },
  {
   "cell_type": "code",
   "execution_count": 6,
   "metadata": {
    "ExecuteTime": {
     "end_time": "2021-01-24T16:50:22.873016Z",
     "start_time": "2021-01-24T16:50:22.861019Z"
    }
   },
   "outputs": [
    {
     "data": {
      "text/plain": [
       "(243, 24)"
      ]
     },
     "execution_count": 6,
     "metadata": {},
     "output_type": "execute_result"
    }
   ],
   "source": [
    "df_sql.shape"
   ]
  },
  {
   "cell_type": "code",
   "execution_count": 7,
   "metadata": {
    "ExecuteTime": {
     "end_time": "2021-01-24T16:50:22.888016Z",
     "start_time": "2021-01-24T16:50:22.875018Z"
    }
   },
   "outputs": [],
   "source": [
    "df_sql=df_sql[['NazwaStacji','KodStacji']]"
   ]
  },
  {
   "cell_type": "code",
   "execution_count": 8,
   "metadata": {
    "ExecuteTime": {
     "end_time": "2021-01-24T16:50:22.904020Z",
     "start_time": "2021-01-24T16:50:22.890017Z"
    },
    "scrolled": true
   },
   "outputs": [
    {
     "data": {
      "text/plain": [
       "43"
      ]
     },
     "execution_count": 8,
     "metadata": {},
     "output_type": "execute_result"
    }
   ],
   "source": [
    "len(df_sql[df_sql['KodStacji'].isnull()])"
   ]
  },
  {
   "cell_type": "code",
   "execution_count": 9,
   "metadata": {
    "ExecuteTime": {
     "end_time": "2021-01-24T16:50:22.967016Z",
     "start_time": "2021-01-24T16:50:22.945020Z"
    }
   },
   "outputs": [
    {
     "data": {
      "text/plain": [
       "['Żywiec, ul. Kopernika  83 a',\n",
       " 'Chełmno, Łunawska 3A',\n",
       " 'Nakło nad Notecią, Park 700-lecia',\n",
       " 'Grajewo - mobilne ',\n",
       " 'Lubań',\n",
       " 'Augustów - mobilne ',\n",
       " 'Środa Śląska',\n",
       " 'Kamienna Góra',\n",
       " 'Ostrowiec Świętokrzyski, MOBILNA',\n",
       " 'Suwałki, ul. Pułaskiego',\n",
       " 'Skawina, ul. Studzińskiego',\n",
       " 'Latoszyn-Zdrój-mobilna',\n",
       " 'NałęczówMOB',\n",
       " 'WIOŚ Biskupiec-Mobilna',\n",
       " 'Goczałkowice Zdrój, ul. Parkowa',\n",
       " 'CHojnice - mobilna',\n",
       " 'Łask-Narutowicza 28',\n",
       " 'Kutno-1 Maja 7',\n",
       " 'Gołuchów Ujęcie Wody',\n",
       " 'Racibórz, Wojska Polskiego 8',\n",
       " 'Augustów-Miejska',\n",
       " 'Trzebnica',\n",
       " 'Jędrzejów, MOBILNA',\n",
       " 'Sandomierz, MOBILNA',\n",
       " 'Mszana Dolna',\n",
       " 'Solec Kujawski, ul. gen. Stefana Roweckiego \"Grota\"',\n",
       " 'Polanczyk-mobilna',\n",
       " 'Milicz',\n",
       " 'Krasnobrod',\n",
       " 'Opatów, MOBILNA',\n",
       " 'Uzdrowisko_Połczyn-Zdrój',\n",
       " 'Strzelce Opolskie mobilna',\n",
       " 'Kielce, ul. Warszawska, komunikacyjna',\n",
       " 'Świebodzin,ul. Gen.W.Sikorskiego',\n",
       " 'Sieprc-WiosnyLudówZSznr2',\n",
       " 'Kołobrzeg_KasprowiczaMOB',\n",
       " 'Cieszyn, ul. Chopina 37',\n",
       " 'Gubin, ul. Gen. W. Andersa',\n",
       " 'Brzeg mobilna',\n",
       " 'Mosina, ul. Czereśniowa',\n",
       " 'Kielce, ul. Jurajska',\n",
       " 'Warszawa-IMiGW-PIB',\n",
       " 'Nowa Sól']"
      ]
     },
     "execution_count": 9,
     "metadata": {},
     "output_type": "execute_result"
    }
   ],
   "source": [
    "test=df_sql[df_sql['KodStacji'].isnull()]\n",
    "test['NazwaStacji'].to_list()"
   ]
  },
  {
   "cell_type": "code",
   "execution_count": 11,
   "metadata": {
    "ExecuteTime": {
     "end_time": "2021-01-24T16:50:24.750023Z",
     "start_time": "2021-01-24T16:50:24.729019Z"
    }
   },
   "outputs": [
    {
     "name": "stdout",
     "output_type": "stream",
     "text": [
      "{'Suwałki, ul. Pułaskiego': 'Suwałki, ul. Pułaskiego 26', 'Żywiec, ul. Kopernika  83 a': 'Żywiec, ul. Kopernika 83 a', 'Augustów - mobilne ': 'Augustów - mobilne'}\n"
     ]
    }
   ],
   "source": [
    "ddict = {'Suwałki, ul. Pułaskiego':'Suwałki, ul. Pułaskiego 26',\n",
    "         'Żywiec, ul. Kopernika  83 a':'Żywiec, ul. Kopernika 83 a',\n",
    "         'Augustów - mobilne ': 'Augustów - mobilne'\n",
    "        }\n",
    "print(ddict)"
   ]
  },
  {
   "cell_type": "code",
   "execution_count": 12,
   "metadata": {
    "ExecuteTime": {
     "end_time": "2021-01-24T16:50:25.854017Z",
     "start_time": "2021-01-24T16:50:25.842018Z"
    }
   },
   "outputs": [],
   "source": [
    "StacjePomiarowe_dict.replace({\"NazwaStacji\":ddict}, inplace=True)"
   ]
  },
  {
   "cell_type": "code",
   "execution_count": 13,
   "metadata": {
    "ExecuteTime": {
     "end_time": "2021-01-24T16:50:26.218021Z",
     "start_time": "2021-01-24T16:50:26.193021Z"
    }
   },
   "outputs": [],
   "source": [
    "df_sqlv2 = pd.merge(StacjePomiarowe_dict, metadane_STACJE, left_on=['NazwaStacji'], right_on=['NazwaStacji'], how='left')\n"
   ]
  },
  {
   "cell_type": "code",
   "execution_count": 14,
   "metadata": {
    "ExecuteTime": {
     "end_time": "2021-01-24T16:50:27.523921Z",
     "start_time": "2021-01-24T16:50:27.512919Z"
    }
   },
   "outputs": [
    {
     "data": {
      "text/plain": [
       "40"
      ]
     },
     "execution_count": 14,
     "metadata": {},
     "output_type": "execute_result"
    }
   ],
   "source": [
    "len(df_sqlv2[df_sqlv2['KodStacji'].isnull()])"
   ]
  },
  {
   "cell_type": "code",
   "execution_count": 15,
   "metadata": {
    "ExecuteTime": {
     "end_time": "2021-01-24T16:50:29.871316Z",
     "start_time": "2021-01-24T16:50:29.849316Z"
    },
    "scrolled": true
   },
   "outputs": [
    {
     "data": {
      "text/plain": [
       "['Chełmno, Łunawska 3A',\n",
       " 'Nakło nad Notecią, Park 700-lecia',\n",
       " 'Grajewo - mobilne ',\n",
       " 'Lubań',\n",
       " 'Środa Śląska',\n",
       " 'Kamienna Góra',\n",
       " 'Ostrowiec Świętokrzyski, MOBILNA',\n",
       " 'Skawina, ul. Studzińskiego',\n",
       " 'Latoszyn-Zdrój-mobilna',\n",
       " 'NałęczówMOB',\n",
       " 'WIOŚ Biskupiec-Mobilna',\n",
       " 'Goczałkowice Zdrój, ul. Parkowa',\n",
       " 'CHojnice - mobilna',\n",
       " 'Łask-Narutowicza 28',\n",
       " 'Kutno-1 Maja 7',\n",
       " 'Gołuchów Ujęcie Wody',\n",
       " 'Racibórz, Wojska Polskiego 8',\n",
       " 'Augustów-Miejska',\n",
       " 'Trzebnica',\n",
       " 'Jędrzejów, MOBILNA',\n",
       " 'Sandomierz, MOBILNA',\n",
       " 'Mszana Dolna',\n",
       " 'Solec Kujawski, ul. gen. Stefana Roweckiego \"Grota\"',\n",
       " 'Polanczyk-mobilna',\n",
       " 'Milicz',\n",
       " 'Krasnobrod',\n",
       " 'Opatów, MOBILNA',\n",
       " 'Uzdrowisko_Połczyn-Zdrój',\n",
       " 'Strzelce Opolskie mobilna',\n",
       " 'Kielce, ul. Warszawska, komunikacyjna',\n",
       " 'Świebodzin,ul. Gen.W.Sikorskiego',\n",
       " 'Sieprc-WiosnyLudówZSznr2',\n",
       " 'Kołobrzeg_KasprowiczaMOB',\n",
       " 'Cieszyn, ul. Chopina 37',\n",
       " 'Gubin, ul. Gen. W. Andersa',\n",
       " 'Brzeg mobilna',\n",
       " 'Mosina, ul. Czereśniowa',\n",
       " 'Kielce, ul. Jurajska',\n",
       " 'Warszawa-IMiGW-PIB',\n",
       " 'Nowa Sól']"
      ]
     },
     "execution_count": 15,
     "metadata": {},
     "output_type": "execute_result"
    }
   ],
   "source": [
    "test2=df_sqlv2[df_sqlv2['KodStacji'].isnull()]\n",
    "test2['NazwaStacji'].to_list()"
   ]
  },
  {
   "cell_type": "code",
   "execution_count": null,
   "metadata": {},
   "outputs": [],
   "source": [
    "df_sqlv2_test=df_sqlv2[['idstacji','NazwaStacji','KodStacji']]"
   ]
  },
  {
   "cell_type": "code",
   "execution_count": 18,
   "metadata": {
    "ExecuteTime": {
     "end_time": "2021-01-24T16:51:04.053583Z",
     "start_time": "2021-01-24T16:51:04.041585Z"
    },
    "scrolled": true
   },
   "outputs": [
    {
     "data": {
      "text/html": [
       "<div>\n",
       "<style scoped>\n",
       "    .dataframe tbody tr th:only-of-type {\n",
       "        vertical-align: middle;\n",
       "    }\n",
       "\n",
       "    .dataframe tbody tr th {\n",
       "        vertical-align: top;\n",
       "    }\n",
       "\n",
       "    .dataframe thead th {\n",
       "        text-align: right;\n",
       "    }\n",
       "</style>\n",
       "<table border=\"1\" class=\"dataframe\">\n",
       "  <thead>\n",
       "    <tr style=\"text-align: right;\">\n",
       "      <th></th>\n",
       "      <th>idstacji</th>\n",
       "      <th>NazwaStacji</th>\n",
       "      <th>KodStacji</th>\n",
       "    </tr>\n",
       "  </thead>\n",
       "  <tbody>\n",
       "    <tr>\n",
       "      <th>0</th>\n",
       "      <td>11</td>\n",
       "      <td>Czerniawa</td>\n",
       "      <td>DsCzerStraza</td>\n",
       "    </tr>\n",
       "    <tr>\n",
       "      <th>1</th>\n",
       "      <td>14</td>\n",
       "      <td>Działoszyn</td>\n",
       "      <td>DsDzialoszyn</td>\n",
       "    </tr>\n",
       "    <tr>\n",
       "      <th>2</th>\n",
       "      <td>16</td>\n",
       "      <td>Dzierżoniów - Piłsudskiego</td>\n",
       "      <td>DsDziePilsud</td>\n",
       "    </tr>\n",
       "    <tr>\n",
       "      <th>3</th>\n",
       "      <td>38</td>\n",
       "      <td>Kłodzko - Szkolna</td>\n",
       "      <td>DsKlodzSzkol</td>\n",
       "    </tr>\n",
       "    <tr>\n",
       "      <th>4</th>\n",
       "      <td>52</td>\n",
       "      <td>Legnica - Rzeczypospolitej</td>\n",
       "      <td>DsLegAlRzecz</td>\n",
       "    </tr>\n",
       "  </tbody>\n",
       "</table>\n",
       "</div>"
      ],
      "text/plain": [
       "   idstacji                 NazwaStacji     KodStacji\n",
       "0        11                   Czerniawa  DsCzerStraza\n",
       "1        14                  Działoszyn  DsDzialoszyn\n",
       "2        16  Dzierżoniów - Piłsudskiego  DsDziePilsud\n",
       "3        38           Kłodzko - Szkolna  DsKlodzSzkol\n",
       "4        52  Legnica - Rzeczypospolitej  DsLegAlRzecz"
      ]
     },
     "execution_count": 18,
     "metadata": {},
     "output_type": "execute_result"
    }
   ],
   "source": [
    "df_sqlv2_test.head()"
   ]
  },
  {
   "cell_type": "code",
   "execution_count": 19,
   "metadata": {
    "ExecuteTime": {
     "end_time": "2021-01-24T16:51:06.705960Z",
     "start_time": "2021-01-24T16:51:06.696961Z"
    }
   },
   "outputs": [],
   "source": [
    "SensoryPomiarowe=pd.read_csv(\"./dictionaries/SensoryPomiarowe.csv\",sep=';')"
   ]
  },
  {
   "cell_type": "code",
   "execution_count": 7,
   "metadata": {
    "ExecuteTime": {
     "end_time": "2021-01-24T16:46:28.675190Z",
     "start_time": "2021-01-24T16:46:28.659191Z"
    }
   },
   "outputs": [
    {
     "data": {
      "text/html": [
       "<div>\n",
       "<style scoped>\n",
       "    .dataframe tbody tr th:only-of-type {\n",
       "        vertical-align: middle;\n",
       "    }\n",
       "\n",
       "    .dataframe tbody tr th {\n",
       "        vertical-align: top;\n",
       "    }\n",
       "\n",
       "    .dataframe thead th {\n",
       "        text-align: right;\n",
       "    }\n",
       "</style>\n",
       "<table border=\"1\" class=\"dataframe\">\n",
       "  <thead>\n",
       "    <tr style=\"text-align: right;\">\n",
       "      <th></th>\n",
       "      <th>IdSensora</th>\n",
       "      <th>IdStacji</th>\n",
       "      <th>NazwaParametru</th>\n",
       "      <th>ParFormula</th>\n",
       "      <th>ParKod</th>\n",
       "      <th>IdParametru</th>\n",
       "    </tr>\n",
       "  </thead>\n",
       "  <tbody>\n",
       "    <tr>\n",
       "      <th>0</th>\n",
       "      <td>50</td>\n",
       "      <td>11</td>\n",
       "      <td>dwutlenek azotu</td>\n",
       "      <td>NO2</td>\n",
       "      <td>NO2</td>\n",
       "      <td>6</td>\n",
       "    </tr>\n",
       "    <tr>\n",
       "      <th>1</th>\n",
       "      <td>52</td>\n",
       "      <td>11</td>\n",
       "      <td>ozon</td>\n",
       "      <td>O3</td>\n",
       "      <td>O3</td>\n",
       "      <td>5</td>\n",
       "    </tr>\n",
       "    <tr>\n",
       "      <th>2</th>\n",
       "      <td>56</td>\n",
       "      <td>11</td>\n",
       "      <td>dwutlenek siarki</td>\n",
       "      <td>SO2</td>\n",
       "      <td>SO2</td>\n",
       "      <td>1</td>\n",
       "    </tr>\n",
       "    <tr>\n",
       "      <th>3</th>\n",
       "      <td>88</td>\n",
       "      <td>14</td>\n",
       "      <td>dwutlenek azotu</td>\n",
       "      <td>NO2</td>\n",
       "      <td>NO2</td>\n",
       "      <td>6</td>\n",
       "    </tr>\n",
       "    <tr>\n",
       "      <th>4</th>\n",
       "      <td>92</td>\n",
       "      <td>14</td>\n",
       "      <td>pył zawieszony PM10</td>\n",
       "      <td>PM10</td>\n",
       "      <td>PM10</td>\n",
       "      <td>3</td>\n",
       "    </tr>\n",
       "  </tbody>\n",
       "</table>\n",
       "</div>"
      ],
      "text/plain": [
       "   IdSensora  IdStacji       NazwaParametru ParFormula ParKod  IdParametru\n",
       "0         50        11      dwutlenek azotu        NO2    NO2            6\n",
       "1         52        11                 ozon         O3     O3            5\n",
       "2         56        11     dwutlenek siarki        SO2    SO2            1\n",
       "3         88        14      dwutlenek azotu        NO2    NO2            6\n",
       "4         92        14  pył zawieszony PM10       PM10   PM10            3"
      ]
     },
     "execution_count": 7,
     "metadata": {},
     "output_type": "execute_result"
    }
   ],
   "source": [
    "SensoryPomiarowe.head()"
   ]
  },
  {
   "cell_type": "code",
   "execution_count": 24,
   "metadata": {
    "ExecuteTime": {
     "end_time": "2021-01-24T16:52:56.380756Z",
     "start_time": "2021-01-24T16:52:56.369753Z"
    }
   },
   "outputs": [
    {
     "data": {
      "text/plain": [
       "array(['NO2', 'O3', 'SO2', 'PM10', 'C6H6', 'CO', 'PM2.5'], dtype=object)"
      ]
     },
     "execution_count": 24,
     "metadata": {},
     "output_type": "execute_result"
    }
   ],
   "source": [
    "SensoryPomiarowe.ParKod.unique()"
   ]
  },
  {
   "cell_type": "code",
   "execution_count": 42,
   "metadata": {
    "ExecuteTime": {
     "end_time": "2021-01-24T17:07:11.616790Z",
     "start_time": "2021-01-24T17:07:11.602791Z"
    }
   },
   "outputs": [],
   "source": [
    "df_sqlv3 = pd.merge(df_sqlv2_test, SensoryPomiarowe, left_on=['idstacji'], right_on=['IdStacji'], how='left')"
   ]
  },
  {
   "cell_type": "code",
   "execution_count": 43,
   "metadata": {
    "ExecuteTime": {
     "end_time": "2021-01-24T17:07:11.787110Z",
     "start_time": "2021-01-24T17:07:11.756105Z"
    }
   },
   "outputs": [
    {
     "data": {
      "text/html": [
       "<div>\n",
       "<style scoped>\n",
       "    .dataframe tbody tr th:only-of-type {\n",
       "        vertical-align: middle;\n",
       "    }\n",
       "\n",
       "    .dataframe tbody tr th {\n",
       "        vertical-align: top;\n",
       "    }\n",
       "\n",
       "    .dataframe thead th {\n",
       "        text-align: right;\n",
       "    }\n",
       "</style>\n",
       "<table border=\"1\" class=\"dataframe\">\n",
       "  <thead>\n",
       "    <tr style=\"text-align: right;\">\n",
       "      <th></th>\n",
       "      <th>idstacji</th>\n",
       "      <th>NazwaStacji</th>\n",
       "      <th>KodStacji</th>\n",
       "      <th>IdSensora</th>\n",
       "      <th>IdStacji</th>\n",
       "      <th>NazwaParametru</th>\n",
       "      <th>ParFormula</th>\n",
       "      <th>ParKod</th>\n",
       "      <th>IdParametru</th>\n",
       "    </tr>\n",
       "  </thead>\n",
       "  <tbody>\n",
       "    <tr>\n",
       "      <th>0</th>\n",
       "      <td>11</td>\n",
       "      <td>Czerniawa</td>\n",
       "      <td>DsCzerStraza</td>\n",
       "      <td>50.0</td>\n",
       "      <td>11.0</td>\n",
       "      <td>dwutlenek azotu</td>\n",
       "      <td>NO2</td>\n",
       "      <td>NO2</td>\n",
       "      <td>6.0</td>\n",
       "    </tr>\n",
       "    <tr>\n",
       "      <th>1</th>\n",
       "      <td>11</td>\n",
       "      <td>Czerniawa</td>\n",
       "      <td>DsCzerStraza</td>\n",
       "      <td>52.0</td>\n",
       "      <td>11.0</td>\n",
       "      <td>ozon</td>\n",
       "      <td>O3</td>\n",
       "      <td>O3</td>\n",
       "      <td>5.0</td>\n",
       "    </tr>\n",
       "    <tr>\n",
       "      <th>2</th>\n",
       "      <td>11</td>\n",
       "      <td>Czerniawa</td>\n",
       "      <td>DsCzerStraza</td>\n",
       "      <td>56.0</td>\n",
       "      <td>11.0</td>\n",
       "      <td>dwutlenek siarki</td>\n",
       "      <td>SO2</td>\n",
       "      <td>SO2</td>\n",
       "      <td>1.0</td>\n",
       "    </tr>\n",
       "    <tr>\n",
       "      <th>3</th>\n",
       "      <td>14</td>\n",
       "      <td>Działoszyn</td>\n",
       "      <td>DsDzialoszyn</td>\n",
       "      <td>88.0</td>\n",
       "      <td>14.0</td>\n",
       "      <td>dwutlenek azotu</td>\n",
       "      <td>NO2</td>\n",
       "      <td>NO2</td>\n",
       "      <td>6.0</td>\n",
       "    </tr>\n",
       "    <tr>\n",
       "      <th>4</th>\n",
       "      <td>14</td>\n",
       "      <td>Działoszyn</td>\n",
       "      <td>DsDzialoszyn</td>\n",
       "      <td>92.0</td>\n",
       "      <td>14.0</td>\n",
       "      <td>pył zawieszony PM10</td>\n",
       "      <td>PM10</td>\n",
       "      <td>PM10</td>\n",
       "      <td>3.0</td>\n",
       "    </tr>\n",
       "  </tbody>\n",
       "</table>\n",
       "</div>"
      ],
      "text/plain": [
       "   idstacji NazwaStacji     KodStacji  IdSensora  IdStacji  \\\n",
       "0        11   Czerniawa  DsCzerStraza       50.0      11.0   \n",
       "1        11   Czerniawa  DsCzerStraza       52.0      11.0   \n",
       "2        11   Czerniawa  DsCzerStraza       56.0      11.0   \n",
       "3        14  Działoszyn  DsDzialoszyn       88.0      14.0   \n",
       "4        14  Działoszyn  DsDzialoszyn       92.0      14.0   \n",
       "\n",
       "        NazwaParametru ParFormula ParKod  IdParametru  \n",
       "0      dwutlenek azotu        NO2    NO2          6.0  \n",
       "1                 ozon         O3     O3          5.0  \n",
       "2     dwutlenek siarki        SO2    SO2          1.0  \n",
       "3      dwutlenek azotu        NO2    NO2          6.0  \n",
       "4  pył zawieszony PM10       PM10   PM10          3.0  "
      ]
     },
     "execution_count": 43,
     "metadata": {},
     "output_type": "execute_result"
    }
   ],
   "source": [
    "df_sqlv3.head()"
   ]
  },
  {
   "cell_type": "code",
   "execution_count": 44,
   "metadata": {
    "ExecuteTime": {
     "end_time": "2021-01-24T17:07:12.084029Z",
     "start_time": "2021-01-24T17:07:12.068027Z"
    }
   },
   "outputs": [],
   "source": [
    "df_sqlv3.drop(columns=['idstacji','NazwaParametru','ParFormula','IdSensora'],inplace=True)"
   ]
  },
  {
   "cell_type": "code",
   "execution_count": 45,
   "metadata": {
    "ExecuteTime": {
     "end_time": "2021-01-24T17:07:12.973006Z",
     "start_time": "2021-01-24T17:07:12.955006Z"
    }
   },
   "outputs": [
    {
     "data": {
      "text/html": [
       "<div>\n",
       "<style scoped>\n",
       "    .dataframe tbody tr th:only-of-type {\n",
       "        vertical-align: middle;\n",
       "    }\n",
       "\n",
       "    .dataframe tbody tr th {\n",
       "        vertical-align: top;\n",
       "    }\n",
       "\n",
       "    .dataframe thead th {\n",
       "        text-align: right;\n",
       "    }\n",
       "</style>\n",
       "<table border=\"1\" class=\"dataframe\">\n",
       "  <thead>\n",
       "    <tr style=\"text-align: right;\">\n",
       "      <th></th>\n",
       "      <th>NazwaStacji</th>\n",
       "      <th>KodStacji</th>\n",
       "      <th>IdStacji</th>\n",
       "      <th>ParKod</th>\n",
       "      <th>IdParametru</th>\n",
       "    </tr>\n",
       "  </thead>\n",
       "  <tbody>\n",
       "    <tr>\n",
       "      <th>0</th>\n",
       "      <td>Czerniawa</td>\n",
       "      <td>DsCzerStraza</td>\n",
       "      <td>11.0</td>\n",
       "      <td>NO2</td>\n",
       "      <td>6.0</td>\n",
       "    </tr>\n",
       "    <tr>\n",
       "      <th>1</th>\n",
       "      <td>Czerniawa</td>\n",
       "      <td>DsCzerStraza</td>\n",
       "      <td>11.0</td>\n",
       "      <td>O3</td>\n",
       "      <td>5.0</td>\n",
       "    </tr>\n",
       "    <tr>\n",
       "      <th>2</th>\n",
       "      <td>Czerniawa</td>\n",
       "      <td>DsCzerStraza</td>\n",
       "      <td>11.0</td>\n",
       "      <td>SO2</td>\n",
       "      <td>1.0</td>\n",
       "    </tr>\n",
       "    <tr>\n",
       "      <th>3</th>\n",
       "      <td>Działoszyn</td>\n",
       "      <td>DsDzialoszyn</td>\n",
       "      <td>14.0</td>\n",
       "      <td>NO2</td>\n",
       "      <td>6.0</td>\n",
       "    </tr>\n",
       "    <tr>\n",
       "      <th>4</th>\n",
       "      <td>Działoszyn</td>\n",
       "      <td>DsDzialoszyn</td>\n",
       "      <td>14.0</td>\n",
       "      <td>PM10</td>\n",
       "      <td>3.0</td>\n",
       "    </tr>\n",
       "  </tbody>\n",
       "</table>\n",
       "</div>"
      ],
      "text/plain": [
       "  NazwaStacji     KodStacji  IdStacji ParKod  IdParametru\n",
       "0   Czerniawa  DsCzerStraza      11.0    NO2          6.0\n",
       "1   Czerniawa  DsCzerStraza      11.0     O3          5.0\n",
       "2   Czerniawa  DsCzerStraza      11.0    SO2          1.0\n",
       "3  Działoszyn  DsDzialoszyn      14.0    NO2          6.0\n",
       "4  Działoszyn  DsDzialoszyn      14.0   PM10          3.0"
      ]
     },
     "execution_count": 45,
     "metadata": {},
     "output_type": "execute_result"
    }
   ],
   "source": [
    "df_sqlv3.head()"
   ]
  },
  {
   "cell_type": "code",
   "execution_count": 91,
   "metadata": {
    "ExecuteTime": {
     "end_time": "2021-01-24T17:24:56.619385Z",
     "start_time": "2021-01-24T17:24:46.285516Z"
    },
    "scrolled": true
   },
   "outputs": [
    {
     "name": "stdout",
     "output_type": "stream",
     "text": [
      "Wall time: 0 ns\n",
      "[########################################] | 100% Completed |  5.7s\n",
      "[########################################] | 100% Completed |  5.8s\n",
      "[########################################] | 100% Completed |  5.9s\n",
      "[########################################] | 100% Completed |  6.0s\n",
      "[########################################] | 100% Completed |  6.1s\n",
      "[########################################] | 100% Completed |  6.2s\n"
     ]
    },
    {
     "data": {
      "text/html": [
       "<div>\n",
       "<style scoped>\n",
       "    .dataframe tbody tr th:only-of-type {\n",
       "        vertical-align: middle;\n",
       "    }\n",
       "\n",
       "    .dataframe tbody tr th {\n",
       "        vertical-align: top;\n",
       "    }\n",
       "\n",
       "    .dataframe thead th {\n",
       "        text-align: right;\n",
       "    }\n",
       "</style>\n",
       "<table border=\"1\" class=\"dataframe\">\n",
       "  <thead>\n",
       "    <tr style=\"text-align: right;\">\n",
       "      <th></th>\n",
       "      <th>dane</th>\n",
       "      <th>IDRodzaju</th>\n",
       "      <th>idstacji</th>\n",
       "      <th>Czas pomiaru</th>\n",
       "    </tr>\n",
       "  </thead>\n",
       "  <tbody>\n",
       "    <tr>\n",
       "      <th>0</th>\n",
       "      <td>1.9269</td>\n",
       "      <td>6</td>\n",
       "      <td>14</td>\n",
       "      <td>2020-01-01 01:00:00</td>\n",
       "    </tr>\n",
       "    <tr>\n",
       "      <th>1</th>\n",
       "      <td>6.4941</td>\n",
       "      <td>1</td>\n",
       "      <td>14</td>\n",
       "      <td>2020-01-01 01:00:00</td>\n",
       "    </tr>\n",
       "    <tr>\n",
       "      <th>2</th>\n",
       "      <td>4.9229</td>\n",
       "      <td>6</td>\n",
       "      <td>16</td>\n",
       "      <td>2020-01-01 01:00:00</td>\n",
       "    </tr>\n",
       "    <tr>\n",
       "      <th>3</th>\n",
       "      <td>3.4370</td>\n",
       "      <td>1</td>\n",
       "      <td>16</td>\n",
       "      <td>2020-01-01 01:00:00</td>\n",
       "    </tr>\n",
       "    <tr>\n",
       "      <th>4</th>\n",
       "      <td>18.9957</td>\n",
       "      <td>6</td>\n",
       "      <td>38</td>\n",
       "      <td>2020-01-01 01:00:00</td>\n",
       "    </tr>\n",
       "  </tbody>\n",
       "</table>\n",
       "</div>"
      ],
      "text/plain": [
       "      dane  IDRodzaju  idstacji        Czas pomiaru\n",
       "0   1.9269          6        14 2020-01-01 01:00:00\n",
       "1   6.4941          1        14 2020-01-01 01:00:00\n",
       "2   4.9229          6        16 2020-01-01 01:00:00\n",
       "3   3.4370          1        16 2020-01-01 01:00:00\n",
       "4  18.9957          6        38 2020-01-01 01:00:00"
      ]
     },
     "execution_count": 91,
     "metadata": {},
     "output_type": "execute_result"
    }
   ],
   "source": [
    "%time\n",
    "\n",
    "\n",
    "df = dd.read_csv('./raw_data/filtered/smogoliczka24.01.csv',sep=';',decimal=',').compute()\n",
    "df[\"Czas pomiaru\"]=pd.to_datetime(df.Data) + df.Godzina.astype('timedelta64[h]')\n",
    "df.drop(columns=['Data','Godzina','idsensora','status','Klucz','idpomiaru'],inplace=True,axis=0)\n",
    "mask= df['Czas pomiaru']>'2020-01-01 00:00:00'\n",
    "df=df[mask]\n",
    "df.reset_index(drop=True, inplace=True)\n",
    "df.head(5)"
   ]
  },
  {
   "cell_type": "code",
   "execution_count": 92,
   "metadata": {
    "ExecuteTime": {
     "end_time": "2021-01-24T17:24:59.638387Z",
     "start_time": "2021-01-24T17:24:56.622384Z"
    }
   },
   "outputs": [],
   "source": [
    "df_smogapi1 = pd.merge(df, df_sqlv3, left_on=['IDRodzaju','idstacji'], right_on=['IdParametru','IdStacji'], how='left')\n",
    "df_smogapi1=df_smogapi1[['KodStacji','Czas pomiaru','dane','ParKod']]\n",
    "df_smogapi1.rename(columns={\"KodStacji\": \"Kod stacji_metadane\",\"ParKod\":\"Wskaźnik\"}, inplace=True)\n"
   ]
  },
  {
   "cell_type": "code",
   "execution_count": 93,
   "metadata": {
    "ExecuteTime": {
     "end_time": "2021-01-24T17:24:59.982145Z",
     "start_time": "2021-01-24T17:24:59.965145Z"
    }
   },
   "outputs": [
    {
     "data": {
      "text/html": [
       "<div>\n",
       "<style scoped>\n",
       "    .dataframe tbody tr th:only-of-type {\n",
       "        vertical-align: middle;\n",
       "    }\n",
       "\n",
       "    .dataframe tbody tr th {\n",
       "        vertical-align: top;\n",
       "    }\n",
       "\n",
       "    .dataframe thead th {\n",
       "        text-align: right;\n",
       "    }\n",
       "</style>\n",
       "<table border=\"1\" class=\"dataframe\">\n",
       "  <thead>\n",
       "    <tr style=\"text-align: right;\">\n",
       "      <th></th>\n",
       "      <th>Kod stacji_metadane</th>\n",
       "      <th>Czas pomiaru</th>\n",
       "      <th>dane</th>\n",
       "      <th>Wskaźnik</th>\n",
       "    </tr>\n",
       "  </thead>\n",
       "  <tbody>\n",
       "    <tr>\n",
       "      <th>0</th>\n",
       "      <td>DsDzialoszyn</td>\n",
       "      <td>2020-01-01 01:00:00</td>\n",
       "      <td>1.9269</td>\n",
       "      <td>NO2</td>\n",
       "    </tr>\n",
       "    <tr>\n",
       "      <th>1</th>\n",
       "      <td>DsDzialoszyn</td>\n",
       "      <td>2020-01-01 01:00:00</td>\n",
       "      <td>6.4941</td>\n",
       "      <td>SO2</td>\n",
       "    </tr>\n",
       "    <tr>\n",
       "      <th>2</th>\n",
       "      <td>DsDziePilsud</td>\n",
       "      <td>2020-01-01 01:00:00</td>\n",
       "      <td>4.9229</td>\n",
       "      <td>NO2</td>\n",
       "    </tr>\n",
       "    <tr>\n",
       "      <th>3</th>\n",
       "      <td>DsDziePilsud</td>\n",
       "      <td>2020-01-01 01:00:00</td>\n",
       "      <td>3.4370</td>\n",
       "      <td>SO2</td>\n",
       "    </tr>\n",
       "    <tr>\n",
       "      <th>4</th>\n",
       "      <td>DsKlodzSzkol</td>\n",
       "      <td>2020-01-01 01:00:00</td>\n",
       "      <td>18.9957</td>\n",
       "      <td>NO2</td>\n",
       "    </tr>\n",
       "  </tbody>\n",
       "</table>\n",
       "</div>"
      ],
      "text/plain": [
       "  Kod stacji_metadane        Czas pomiaru     dane Wskaźnik\n",
       "0        DsDzialoszyn 2020-01-01 01:00:00   1.9269      NO2\n",
       "1        DsDzialoszyn 2020-01-01 01:00:00   6.4941      SO2\n",
       "2        DsDziePilsud 2020-01-01 01:00:00   4.9229      NO2\n",
       "3        DsDziePilsud 2020-01-01 01:00:00   3.4370      SO2\n",
       "4        DsKlodzSzkol 2020-01-01 01:00:00  18.9957      NO2"
      ]
     },
     "execution_count": 93,
     "metadata": {},
     "output_type": "execute_result"
    }
   ],
   "source": [
    "df_smogapi1.head()"
   ]
  },
  {
   "cell_type": "code",
   "execution_count": 94,
   "metadata": {
    "ExecuteTime": {
     "end_time": "2021-01-24T17:25:08.421419Z",
     "start_time": "2021-01-24T17:25:07.886391Z"
    }
   },
   "outputs": [],
   "source": [
    "ddf = dd.from_pandas(df_smogapi1,npartitions=1)"
   ]
  },
  {
   "cell_type": "code",
   "execution_count": 95,
   "metadata": {
    "ExecuteTime": {
     "end_time": "2021-01-24T17:25:09.856228Z",
     "start_time": "2021-01-24T17:25:09.829229Z"
    }
   },
   "outputs": [
    {
     "data": {
      "text/html": [
       "<div>\n",
       "<style scoped>\n",
       "    .dataframe tbody tr th:only-of-type {\n",
       "        vertical-align: middle;\n",
       "    }\n",
       "\n",
       "    .dataframe tbody tr th {\n",
       "        vertical-align: top;\n",
       "    }\n",
       "\n",
       "    .dataframe thead th {\n",
       "        text-align: right;\n",
       "    }\n",
       "</style>\n",
       "<table border=\"1\" class=\"dataframe\">\n",
       "  <thead>\n",
       "    <tr style=\"text-align: right;\">\n",
       "      <th></th>\n",
       "      <th>Kod stacji_metadane</th>\n",
       "      <th>Czas pomiaru</th>\n",
       "      <th>C6H6</th>\n",
       "      <th>CO</th>\n",
       "      <th>NO2</th>\n",
       "      <th>O3</th>\n",
       "      <th>PM10</th>\n",
       "      <th>PM2.5</th>\n",
       "      <th>SO2</th>\n",
       "    </tr>\n",
       "  </thead>\n",
       "  <tbody>\n",
       "  </tbody>\n",
       "</table>\n",
       "</div>"
      ],
      "text/plain": [
       "Empty DataFrame\n",
       "Columns: [Kod stacji_metadane, Czas pomiaru, C6H6, CO, NO2, O3, PM10, PM2.5, SO2]\n",
       "Index: []"
      ]
     },
     "execution_count": 95,
     "metadata": {},
     "output_type": "execute_result"
    }
   ],
   "source": [
    "def f(df: pd.DataFrame) -> pd.DataFrame:\n",
    "    \"\"\" This is your code from above, as a function \"\"\"\n",
    "    return df.pivot_table(index=['Kod stacji_metadane','Czas pomiaru'], columns='Wskaźnik',values='dane').reset_index()\n",
    "\n",
    "columns = [\"Kod stacji_metadane\",\"Czas pomiaru\",\"C6H6\",\"CO\",\"NO2\",\"O3\",\"PM10\",\"PM2.5\",\"SO2\"]\n",
    "df = pd.DataFrame(columns=columns)\n",
    "df.head(0)"
   ]
  },
  {
   "cell_type": "code",
   "execution_count": 96,
   "metadata": {
    "ExecuteTime": {
     "end_time": "2021-01-24T17:25:13.934006Z",
     "start_time": "2021-01-24T17:25:13.925754Z"
    }
   },
   "outputs": [],
   "source": [
    "from dask.diagnostics import ProgressBar\n",
    "ProgressBar().register()\n",
    "ddf=ddf.map_partitions(f,meta=df)  # apply to all pandas dataframes within dask dataframe\n"
   ]
  },
  {
   "cell_type": "code",
   "execution_count": 97,
   "metadata": {
    "ExecuteTime": {
     "end_time": "2021-01-24T17:25:15.192116Z",
     "start_time": "2021-01-24T17:25:15.173116Z"
    }
   },
   "outputs": [],
   "source": [
    "ddf=ddf.repartition(npartitions= 10)"
   ]
  },
  {
   "cell_type": "code",
   "execution_count": 98,
   "metadata": {
    "ExecuteTime": {
     "end_time": "2021-01-24T17:25:22.510470Z",
     "start_time": "2021-01-24T17:25:15.792783Z"
    },
    "scrolled": true
   },
   "outputs": [
    {
     "name": "stdout",
     "output_type": "stream",
     "text": [
      "[########################################] | 100% Completed |  6.0s\n",
      "[########################################] | 100% Completed |  6.1s\n",
      "[########################################] | 100% Completed |  6.2s\n",
      "[########################################] | 100% Completed |  6.3s\n",
      "[########################################] | 100% Completed |  6.4s\n",
      "[########################################] | 100% Completed |  6.5s\n",
      "[########################################] | 100% Completed |  6.5s\n"
     ]
    },
    {
     "data": {
      "text/html": [
       "<div>\n",
       "<style scoped>\n",
       "    .dataframe tbody tr th:only-of-type {\n",
       "        vertical-align: middle;\n",
       "    }\n",
       "\n",
       "    .dataframe tbody tr th {\n",
       "        vertical-align: top;\n",
       "    }\n",
       "\n",
       "    .dataframe thead th {\n",
       "        text-align: right;\n",
       "    }\n",
       "</style>\n",
       "<table border=\"1\" class=\"dataframe\">\n",
       "  <thead>\n",
       "    <tr style=\"text-align: right;\">\n",
       "      <th>Wskaźnik</th>\n",
       "      <th>Kod stacji_metadane</th>\n",
       "      <th>Czas pomiaru</th>\n",
       "      <th>C6H6</th>\n",
       "      <th>CO</th>\n",
       "      <th>NO2</th>\n",
       "      <th>O3</th>\n",
       "      <th>PM10</th>\n",
       "      <th>PM2.5</th>\n",
       "      <th>SO2</th>\n",
       "    </tr>\n",
       "  </thead>\n",
       "  <tbody>\n",
       "    <tr>\n",
       "      <th>0</th>\n",
       "      <td>DsCzerStraza</td>\n",
       "      <td>2020-06-09 13:00:00</td>\n",
       "      <td>NaN</td>\n",
       "      <td>NaN</td>\n",
       "      <td>NaN</td>\n",
       "      <td>79.2056</td>\n",
       "      <td>NaN</td>\n",
       "      <td>NaN</td>\n",
       "      <td>NaN</td>\n",
       "    </tr>\n",
       "    <tr>\n",
       "      <th>1</th>\n",
       "      <td>DsCzerStraza</td>\n",
       "      <td>2020-06-09 14:00:00</td>\n",
       "      <td>NaN</td>\n",
       "      <td>NaN</td>\n",
       "      <td>1.6385</td>\n",
       "      <td>84.7211</td>\n",
       "      <td>NaN</td>\n",
       "      <td>NaN</td>\n",
       "      <td>NaN</td>\n",
       "    </tr>\n",
       "    <tr>\n",
       "      <th>2</th>\n",
       "      <td>DsCzerStraza</td>\n",
       "      <td>2020-06-09 15:00:00</td>\n",
       "      <td>NaN</td>\n",
       "      <td>NaN</td>\n",
       "      <td>1.6974</td>\n",
       "      <td>89.3183</td>\n",
       "      <td>NaN</td>\n",
       "      <td>NaN</td>\n",
       "      <td>NaN</td>\n",
       "    </tr>\n",
       "    <tr>\n",
       "      <th>3</th>\n",
       "      <td>DsCzerStraza</td>\n",
       "      <td>2020-06-09 16:00:00</td>\n",
       "      <td>NaN</td>\n",
       "      <td>NaN</td>\n",
       "      <td>1.9131</td>\n",
       "      <td>93.0739</td>\n",
       "      <td>NaN</td>\n",
       "      <td>NaN</td>\n",
       "      <td>NaN</td>\n",
       "    </tr>\n",
       "    <tr>\n",
       "      <th>4</th>\n",
       "      <td>DsCzerStraza</td>\n",
       "      <td>2020-06-09 17:00:00</td>\n",
       "      <td>NaN</td>\n",
       "      <td>NaN</td>\n",
       "      <td>1.9895</td>\n",
       "      <td>91.5978</td>\n",
       "      <td>NaN</td>\n",
       "      <td>NaN</td>\n",
       "      <td>NaN</td>\n",
       "    </tr>\n",
       "  </tbody>\n",
       "</table>\n",
       "</div>"
      ],
      "text/plain": [
       "Wskaźnik Kod stacji_metadane        Czas pomiaru  C6H6  CO     NO2       O3  \\\n",
       "0               DsCzerStraza 2020-06-09 13:00:00   NaN NaN     NaN  79.2056   \n",
       "1               DsCzerStraza 2020-06-09 14:00:00   NaN NaN  1.6385  84.7211   \n",
       "2               DsCzerStraza 2020-06-09 15:00:00   NaN NaN  1.6974  89.3183   \n",
       "3               DsCzerStraza 2020-06-09 16:00:00   NaN NaN  1.9131  93.0739   \n",
       "4               DsCzerStraza 2020-06-09 17:00:00   NaN NaN  1.9895  91.5978   \n",
       "\n",
       "Wskaźnik  PM10  PM2.5  SO2  \n",
       "0          NaN    NaN  NaN  \n",
       "1          NaN    NaN  NaN  \n",
       "2          NaN    NaN  NaN  \n",
       "3          NaN    NaN  NaN  \n",
       "4          NaN    NaN  NaN  "
      ]
     },
     "execution_count": 98,
     "metadata": {},
     "output_type": "execute_result"
    }
   ],
   "source": [
    "ddf.head()"
   ]
  },
  {
   "cell_type": "code",
   "execution_count": null,
   "metadata": {},
   "outputs": [],
   "source": []
  },
  {
   "cell_type": "code",
   "execution_count": 101,
   "metadata": {
    "ExecuteTime": {
     "end_time": "2021-01-24T17:32:40.477710Z",
     "start_time": "2021-01-24T17:32:40.458710Z"
    }
   },
   "outputs": [],
   "source": [
    "from loader_sql import PandasToSQL\n",
    "import os\n",
    "from dotenv import load_dotenv, find_dotenv\n",
    "\n",
    "load_dotenv(find_dotenv())\n",
    "\n",
    "SERVER = os.environ.get(\"SERVER\")\n",
    "DATABASE = os.environ.get(\"DATABASE\")\n",
    "\n",
    "USERNAME = os.environ.get(\"USERNAME\")\n",
    "PASSWORD = os.environ.get(\"PASSWORD\")"
   ]
  },
  {
   "cell_type": "code",
   "execution_count": 102,
   "metadata": {
    "ExecuteTime": {
     "end_time": "2021-01-24T17:35:07.090355Z",
     "start_time": "2021-01-24T17:32:40.977601Z"
    }
   },
   "outputs": [
    {
     "name": "stderr",
     "output_type": "stream",
     "text": [
      "\r",
      "  0%|          | 0/10 [00:00<?, ?it/s]"
     ]
    },
    {
     "name": "stdout",
     "output_type": "stream",
     "text": [
      "[########################################] | 100% Completed |  6.2s\n",
      "[########################################] | 100% Completed |  6.3s\n",
      "[########################################] | 100% Completed |  6.4s\n",
      "[########################################] | 100% Completed |  6.5s\n",
      "[########################################] | 100% Completed |  6.6s\n",
      "[########################################] | 100% Completed |  6.7s\n",
      "[########################################] | 100% Completed |  6.8s\n"
     ]
    },
    {
     "name": "stderr",
     "output_type": "stream",
     "text": [
      "\r",
      " 10%|█         | 1/10 [00:35<05:20, 35.59s/it]"
     ]
    },
    {
     "name": "stdout",
     "output_type": "stream",
     "text": [
      "[########################################] | 100% Completed |  5.8s\n",
      "[########################################] | 100% Completed |  5.9s\n",
      "[########################################] | 100% Completed |  6.0s\n",
      "[########################################] | 100% Completed |  6.1s\n",
      "[########################################] | 100% Completed |  6.2s\n",
      "[########################################] | 100% Completed |  6.3s\n",
      "[########################################] | 100% Completed |  6.4s\n"
     ]
    },
    {
     "name": "stderr",
     "output_type": "stream",
     "text": [
      "\r",
      " 20%|██        | 2/10 [01:10<04:43, 35.47s/it]"
     ]
    },
    {
     "name": "stdout",
     "output_type": "stream",
     "text": [
      "[########################################] | 100% Completed |  6.0s\n",
      "[########################################] | 100% Completed |  6.1s\n",
      "[########################################] | 100% Completed |  6.2s\n",
      "[########################################] | 100% Completed |  6.3s\n",
      "[########################################] | 100% Completed |  6.4s\n",
      "[########################################] | 100% Completed |  6.5s\n",
      "[########################################] | 100% Completed |  6.6s\n"
     ]
    },
    {
     "name": "stderr",
     "output_type": "stream",
     "text": [
      "\r",
      " 30%|███       | 3/10 [01:39<03:55, 33.59s/it]"
     ]
    },
    {
     "name": "stdout",
     "output_type": "stream",
     "text": [
      "[########################################] | 100% Completed |  5.8s\n",
      "[########################################] | 100% Completed |  5.9s\n",
      "[########################################] | 100% Completed |  6.0s\n",
      "[########################################] | 100% Completed |  6.1s\n",
      "[########################################] | 100% Completed |  6.2s\n",
      "[########################################] | 100% Completed |  6.3s\n",
      "[########################################] | 100% Completed |  6.4s\n"
     ]
    },
    {
     "name": "stderr",
     "output_type": "stream",
     "text": [
      "\r",
      " 40%|████      | 4/10 [01:46<02:32, 25.47s/it]"
     ]
    },
    {
     "name": "stdout",
     "output_type": "stream",
     "text": [
      "[########################################] | 100% Completed |  5.8s\n",
      "[########################################] | 100% Completed |  5.9s\n",
      "[########################################] | 100% Completed |  6.0s\n",
      "[########################################] | 100% Completed |  6.2s\n",
      "[########################################] | 100% Completed |  6.3s\n",
      "[########################################] | 100% Completed |  6.4s\n",
      "[########################################] | 100% Completed |  6.5s\n"
     ]
    },
    {
     "name": "stderr",
     "output_type": "stream",
     "text": [
      "\r",
      " 50%|█████     | 5/10 [01:53<01:38, 19.79s/it]"
     ]
    },
    {
     "name": "stdout",
     "output_type": "stream",
     "text": [
      "[########################################] | 100% Completed |  5.8s\n",
      "[########################################] | 100% Completed |  5.9s\n",
      "[########################################] | 100% Completed |  6.0s\n",
      "[########################################] | 100% Completed |  6.1s\n",
      "[########################################] | 100% Completed |  6.2s\n",
      "[########################################] | 100% Completed |  6.3s\n",
      "[########################################] | 100% Completed |  6.4s\n"
     ]
    },
    {
     "name": "stderr",
     "output_type": "stream",
     "text": [
      "\r",
      " 60%|██████    | 6/10 [01:59<01:03, 15.81s/it]"
     ]
    },
    {
     "name": "stdout",
     "output_type": "stream",
     "text": [
      "[########################################] | 100% Completed |  6.0s\n",
      "[########################################] | 100% Completed |  6.1s\n",
      "[########################################] | 100% Completed |  6.2s\n",
      "[########################################] | 100% Completed |  6.3s\n",
      "[########################################] | 100% Completed |  6.4s\n",
      "[########################################] | 100% Completed |  6.5s\n",
      "[########################################] | 100% Completed |  6.6s\n"
     ]
    },
    {
     "name": "stderr",
     "output_type": "stream",
     "text": [
      "\r",
      " 70%|███████   | 7/10 [02:06<00:39, 13.08s/it]"
     ]
    },
    {
     "name": "stdout",
     "output_type": "stream",
     "text": [
      "[########################################] | 100% Completed |  5.9s\n",
      "[########################################] | 100% Completed |  6.0s\n",
      "[########################################] | 100% Completed |  6.1s\n",
      "[########################################] | 100% Completed |  6.2s\n",
      "[########################################] | 100% Completed |  6.3s\n",
      "[########################################] | 100% Completed |  6.4s\n",
      "[########################################] | 100% Completed |  6.5s\n"
     ]
    },
    {
     "name": "stderr",
     "output_type": "stream",
     "text": [
      "\r",
      " 80%|████████  | 8/10 [02:12<00:22, 11.14s/it]"
     ]
    },
    {
     "name": "stdout",
     "output_type": "stream",
     "text": [
      "[########################################] | 100% Completed |  6.0s\n",
      "[########################################] | 100% Completed |  6.1s\n",
      "[########################################] | 100% Completed |  6.2s\n",
      "[########################################] | 100% Completed |  6.3s\n",
      "[########################################] | 100% Completed |  6.4s\n",
      "[########################################] | 100% Completed |  6.5s\n",
      "[########################################] | 100% Completed |  6.6s\n"
     ]
    },
    {
     "name": "stderr",
     "output_type": "stream",
     "text": [
      "\r",
      " 90%|█████████ | 9/10 [02:19<00:09,  9.81s/it]"
     ]
    },
    {
     "name": "stdout",
     "output_type": "stream",
     "text": [
      "[########################################] | 100% Completed |  5.7s\n",
      "[########################################] | 100% Completed |  5.8s\n",
      "[########################################] | 100% Completed |  5.9s\n",
      "[########################################] | 100% Completed |  6.1s\n",
      "[########################################] | 100% Completed |  6.2s\n",
      "[########################################] | 100% Completed |  6.3s\n",
      "[########################################] | 100% Completed |  6.4s\n"
     ]
    },
    {
     "name": "stderr",
     "output_type": "stream",
     "text": [
      "100%|██████████| 10/10 [02:26<00:00, 14.60s/it]\n"
     ]
    }
   ],
   "source": [
    "PandasToSQL().dask_loader(ddf,\"pomiary_pivoted\")"
   ]
  }
 ],
 "metadata": {
  "kernelspec": {
   "display_name": "Python 3",
   "language": "python",
   "name": "python3"
  },
  "language_info": {
   "codemirror_mode": {
    "name": "ipython",
    "version": 3
   },
   "file_extension": ".py",
   "mimetype": "text/x-python",
   "name": "python",
   "nbconvert_exporter": "python",
   "pygments_lexer": "ipython3",
   "version": "3.8.3"
  }
 },
 "nbformat": 4,
 "nbformat_minor": 4
}
