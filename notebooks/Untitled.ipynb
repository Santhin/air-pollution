{
 "cells": [
  {
   "cell_type": "code",
   "execution_count": 8,
   "id": "de549d6b",
   "metadata": {
    "ExecuteTime": {
     "end_time": "2021-05-01T10:10:20.797974Z",
     "start_time": "2021-05-01T10:10:14.217385Z"
    }
   },
   "outputs": [
    {
     "data": {
      "application/vnd.jupyter.widget-view+json": {
       "model_id": "",
       "version_major": 2,
       "version_minor": 0
      },
      "text/plain": [
       "Output()"
      ]
     },
     "metadata": {},
     "output_type": "display_data"
    },
    {
     "data": {
      "text/html": [
       "<pre style=\"white-space:pre;overflow-x:auto;line-height:normal;font-family:Menlo,'DejaVu Sans Mono',consolas,'Courier New',monospace\">Using existing cluster: <span style=\"color: #008000; text-decoration-color: #008000\">'Santhin-d0e1b757-c'</span>\n",
       "</pre>\n"
      ],
      "text/plain": [
       "Using existing cluster: \u001b[32m'Santhin-d0e1b757-c'\u001b[0m\n"
      ]
     },
     "metadata": {},
     "output_type": "display_data"
    },
    {
     "data": {
      "text/html": [
       "<pre style=\"white-space:pre;overflow-x:auto;line-height:normal;font-family:Menlo,'DejaVu Sans Mono',consolas,'Courier New',monospace\"></pre>\n"
      ],
      "text/plain": []
     },
     "metadata": {},
     "output_type": "display_data"
    },
    {
     "name": "stderr",
     "output_type": "stream",
     "text": [
      "/mnt/g/Projekty/smogoliczka/.venv/lib/python3.8/site-packages/distributed/client.py:1140: VersionMismatchWarning: Mismatched versions found\n",
      "\n",
      "+---------+---------------+---------------+---------------+\n",
      "| Package | client        | scheduler     | workers       |\n",
      "+---------+---------------+---------------+---------------+\n",
      "| python  | 3.8.3.final.0 | 3.8.8.final.0 | 3.8.8.final.0 |\n",
      "+---------+---------------+---------------+---------------+\n",
      "  warnings.warn(version_module.VersionMismatchWarning(msg[0][\"warning\"]))\n"
     ]
    },
    {
     "name": "stdout",
     "output_type": "stream",
     "text": [
      "Dashboard: http://ec2-3-143-211-187.us-east-2.compute.amazonaws.com:8787\n"
     ]
    }
   ],
   "source": [
    "import coiled\n",
    "cluster = coiled.Cluster(\n",
    "                    n_workers=20,\n",
    "                    software='default-py38',\n",
    "                    name='Santhin-d0e1b757-c'\n",
    "                    )\n",
    "\n",
    "from dask.distributed import Client\n",
    "client = Client(cluster)\n",
    "print('Dashboard:', client.dashboard_link)"
   ]
  },
  {
   "cell_type": "code",
   "execution_count": null,
   "id": "e77c09eb",
   "metadata": {},
   "outputs": [],
   "source": []
  }
 ],
 "metadata": {
  "kernelspec": {
   "display_name": "Python 3",
   "language": "python",
   "name": "python3"
  },
  "language_info": {
   "codemirror_mode": {
    "name": "ipython",
    "version": 3
   },
   "file_extension": ".py",
   "mimetype": "text/x-python",
   "name": "python",
   "nbconvert_exporter": "python",
   "pygments_lexer": "ipython3",
   "version": "3.8.3"
  }
 },
 "nbformat": 4,
 "nbformat_minor": 5
}
