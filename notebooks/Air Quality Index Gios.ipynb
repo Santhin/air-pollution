{
 "cells": [
  {
   "cell_type": "code",
   "execution_count": 1,
   "metadata": {
    "ExecuteTime": {
     "end_time": "2021-03-05T18:06:03.351509Z",
     "start_time": "2021-03-05T18:06:03.344506Z"
    }
   },
   "outputs": [],
   "source": [
    "import pandas as pd"
   ]
  },
  {
   "cell_type": "code",
   "execution_count": 2,
   "metadata": {},
   "outputs": [
    {
     "name": "stdout",
     "output_type": "stream",
     "text": [
      "\u001b[0m\u001b[34;40mdata\u001b[0m/           \u001b[34;40mnotebooks\u001b[0m/    \u001b[01;31mpyproject.toml\u001b[0m*\r\n",
      "\u001b[01;31mloader_sql.py\u001b[0m*  \u001b[01;31mpoetry.lock\u001b[0m*  \u001b[01;31mtestdotenv.py\u001b[0m*\r\n"
     ]
    }
   ],
   "source": [
    "ls .."
   ]
  },
  {
   "cell_type": "code",
   "execution_count": 3,
   "metadata": {
    "ExecuteTime": {
     "end_time": "2021-03-05T18:06:03.621423Z",
     "start_time": "2021-03-05T18:06:03.579419Z"
    }
   },
   "outputs": [
    {
     "data": {
      "text/plain": [
       "{'PM10': [20.1, 50.1, 80.1, 110.1, 150.1],\n",
       " 'PM2.5': [13.1, 35.1, 55.1, 75.1, 110.1],\n",
       " 'O3': [70.1, 120.1, 150.1, 180.1, 240.1],\n",
       " 'NO2': [40.1, 100.1, 150.1, 200.1, 400.1],\n",
       " 'SO2': [50.1, 100.1, 200.1, 350.1, 500.1],\n",
       " 'C6H6': [6.1, 11.1, 16.1, 21.1, 51.1],\n",
       " 'CO': [3.1, 7.1, 11.1, 15.1, 21.1]}"
      ]
     },
     "execution_count": 3,
     "metadata": {},
     "output_type": "execute_result"
    }
   ],
   "source": [
    "indeks_gios = pd.read_csv(\n",
    "    '../data/IndeksJakosciPowietrza.csv', sep=';', decimal=',')\n",
    "indeks_gios = indeks_gios.T\n",
    "indeks_gios.rename(columns=indeks_gios.iloc[0], inplace=True)\n",
    "indeks_gios.drop(indeks_gios.index[0], inplace=True)\n",
    "indeks_gios.reset_index(inplace=True)\n",
    "dtype0 = {'index': 'category',\n",
    "          'jednostka': 'category',\n",
    "          'Bardzo dobry': 'float',\n",
    "          'Dobry': 'float',\n",
    "          'Umiarkowany': 'float',\n",
    "          \"Dostateczny\": 'float',\n",
    "          'Zły':  'float'}\n",
    "indeks_gios = indeks_gios.astype(dtype0)\n",
    "cols = [x for x in indeks_gios.columns[2:]]\n",
    "lvl_dang = {}\n",
    "for i in range(len(indeks_gios)):\n",
    "    lvl_dang[indeks_gios['index'][i]] = indeks_gios[cols].loc[i].tolist()\n",
    "lvl_dang"
   ]
  },
  {
   "cell_type": "code",
   "execution_count": 4,
   "metadata": {
    "ExecuteTime": {
     "end_time": "2021-03-05T23:28:15.379975Z",
     "start_time": "2021-03-05T23:28:15.294885Z"
    },
    "scrolled": true
   },
   "outputs": [
    {
     "data": {
      "text/html": [
       "<div>\n",
       "<style scoped>\n",
       "    .dataframe tbody tr th:only-of-type {\n",
       "        vertical-align: middle;\n",
       "    }\n",
       "\n",
       "    .dataframe tbody tr th {\n",
       "        vertical-align: top;\n",
       "    }\n",
       "\n",
       "    .dataframe thead th {\n",
       "        text-align: right;\n",
       "    }\n",
       "</style>\n",
       "<table border=\"1\" class=\"dataframe\">\n",
       "  <thead>\n",
       "    <tr style=\"text-align: right;\">\n",
       "      <th></th>\n",
       "      <th>index</th>\n",
       "      <th>jednostka</th>\n",
       "      <th>Bardzo dobry</th>\n",
       "      <th>Dobry</th>\n",
       "      <th>Umiarkowany</th>\n",
       "      <th>Dostateczny</th>\n",
       "      <th>Zły</th>\n",
       "    </tr>\n",
       "  </thead>\n",
       "  <tbody>\n",
       "    <tr>\n",
       "      <th>0</th>\n",
       "      <td>PM10</td>\n",
       "      <td>[µg/m3]</td>\n",
       "      <td>20.1</td>\n",
       "      <td>50.1</td>\n",
       "      <td>80.1</td>\n",
       "      <td>110.1</td>\n",
       "      <td>150.1</td>\n",
       "    </tr>\n",
       "    <tr>\n",
       "      <th>1</th>\n",
       "      <td>PM2.5</td>\n",
       "      <td>[µg/m3]</td>\n",
       "      <td>13.1</td>\n",
       "      <td>35.1</td>\n",
       "      <td>55.1</td>\n",
       "      <td>75.1</td>\n",
       "      <td>110.1</td>\n",
       "    </tr>\n",
       "    <tr>\n",
       "      <th>2</th>\n",
       "      <td>O3</td>\n",
       "      <td>[µg/m3]</td>\n",
       "      <td>70.1</td>\n",
       "      <td>120.1</td>\n",
       "      <td>150.1</td>\n",
       "      <td>180.1</td>\n",
       "      <td>240.1</td>\n",
       "    </tr>\n",
       "    <tr>\n",
       "      <th>3</th>\n",
       "      <td>NO2</td>\n",
       "      <td>[µg/m3]</td>\n",
       "      <td>40.1</td>\n",
       "      <td>100.1</td>\n",
       "      <td>150.1</td>\n",
       "      <td>200.1</td>\n",
       "      <td>400.1</td>\n",
       "    </tr>\n",
       "    <tr>\n",
       "      <th>4</th>\n",
       "      <td>SO2</td>\n",
       "      <td>[µg/m3]</td>\n",
       "      <td>50.1</td>\n",
       "      <td>100.1</td>\n",
       "      <td>200.1</td>\n",
       "      <td>350.1</td>\n",
       "      <td>500.1</td>\n",
       "    </tr>\n",
       "    <tr>\n",
       "      <th>5</th>\n",
       "      <td>C6H6</td>\n",
       "      <td>[µg/m3]</td>\n",
       "      <td>6.1</td>\n",
       "      <td>11.1</td>\n",
       "      <td>16.1</td>\n",
       "      <td>21.1</td>\n",
       "      <td>51.1</td>\n",
       "    </tr>\n",
       "    <tr>\n",
       "      <th>6</th>\n",
       "      <td>CO</td>\n",
       "      <td>[mg/m3]</td>\n",
       "      <td>3.1</td>\n",
       "      <td>7.1</td>\n",
       "      <td>11.1</td>\n",
       "      <td>15.1</td>\n",
       "      <td>21.1</td>\n",
       "    </tr>\n",
       "  </tbody>\n",
       "</table>\n",
       "</div>"
      ],
      "text/plain": [
       "   index jednostka  Bardzo dobry  Dobry  Umiarkowany  Dostateczny    Zły\n",
       "0   PM10   [µg/m3]          20.1   50.1         80.1        110.1  150.1\n",
       "1  PM2.5   [µg/m3]          13.1   35.1         55.1         75.1  110.1\n",
       "2     O3   [µg/m3]          70.1  120.1        150.1        180.1  240.1\n",
       "3    NO2   [µg/m3]          40.1  100.1        150.1        200.1  400.1\n",
       "4    SO2   [µg/m3]          50.1  100.1        200.1        350.1  500.1\n",
       "5   C6H6   [µg/m3]           6.1   11.1         16.1         21.1   51.1\n",
       "6     CO   [mg/m3]           3.1    7.1         11.1         15.1   21.1"
      ]
     },
     "execution_count": 4,
     "metadata": {},
     "output_type": "execute_result"
    }
   ],
   "source": [
    "indeks_gios"
   ]
  },
  {
   "cell_type": "code",
   "execution_count": 5,
   "metadata": {
    "ExecuteTime": {
     "end_time": "2021-03-05T16:51:51.912268Z",
     "start_time": "2021-03-05T16:51:51.897267Z"
    }
   },
   "outputs": [
    {
     "data": {
      "text/plain": [
       "110.1"
      ]
     },
     "execution_count": 5,
     "metadata": {},
     "output_type": "execute_result"
    }
   ],
   "source": [
    "lvl_dang[\"PM10\"][3]"
   ]
  },
  {
   "attachments": {
    "image.png": {
     "image/png": "[encoded data removed]"
    }
   },
   "cell_type": "markdown",
   "metadata": {},
   "source": [
    "![image.png](attachment:image.png)"
   ]
  },
  {
   "cell_type": "code",
   "execution_count": null,
   "metadata": {},
   "outputs": [],
   "source": []
  }
 ],
 "metadata": {
  "kernelspec": {
   "display_name": "Python 3",
   "language": "python",
   "name": "python3"
  },
  "language_info": {
   "codemirror_mode": {
    "name": "ipython",
    "version": 3
   },
   "file_extension": ".py",
   "mimetype": "text/x-python",
   "name": "python",
   "nbconvert_exporter": "python",
   "pygments_lexer": "ipython3",
   "version": "3.8.3"
  }
 },
 "nbformat": 4,
 "nbformat_minor": 4
}
