{
 "cells": [
  {
   "cell_type": "code",
   "execution_count": 1,
   "metadata": {
    "ExecuteTime": {
     "end_time": "2021-02-11T09:58:58.296928Z",
     "start_time": "2021-02-11T09:58:56.196932Z"
    }
   },
   "outputs": [],
   "source": [
    "import pandas as pd\n",
    "import io\n",
    "import sqlalchemy as sa\n",
    "import urllib\n",
    "\n",
    "\n",
    "from geopy.geocoders import Nominatim\n",
    "from geopy.extra.rate_limiter import RateLimiter\n",
    "import numpy as np"
   ]
  },
  {
   "cell_type": "code",
   "execution_count": null,
   "metadata": {},
   "outputs": [],
   "source": [
    "import os\n",
    "from dotenv import load_dotenv, find_dotenv\n",
    "\n",
    "load_dotenv(find_dotenv())\n",
    "\n",
    "SERVER = os.environ.get(\"SERVER\")\n",
    "DATABASE = os.environ.get(\"DATABASE\")\n",
    "\n",
    "USERNAME = os.environ.get(\"USERNAME\")\n",
    "PASSWORD = os.environ.get(\"PASSWORD\")"
   ]
  },
  {
   "cell_type": "code",
   "execution_count": 53,
   "metadata": {
    "ExecuteTime": {
     "end_time": "2021-01-28T20:54:47.765412Z",
     "start_time": "2021-01-28T20:54:47.752415Z"
    }
   },
   "outputs": [],
   "source": [
    "conn= urllib.parse.quote_plus('DRIVER={ODBC Driver 17 for SQL Server};SERVER='+str(server)+';DATABASE='+str(database)+';UID='+str(username)+';PWD='+ str(password))\n",
    "engine = sa.create_engine('mssql+pyodbc:///?odbc_connect={}'.format(conn),fast_executemany=True)\n",
    "query = \"\"\"\n",
    "SELECT  [KodStacji]\n",
    "      ,[KodMiedzynarodowy]\n",
    "      ,[NazwaStacji]\n",
    "      ,[StaryKodStacji]\n",
    "      ,[DataUruchomienia]\n",
    "      ,[DataZamkniecia]\n",
    "      ,[TypStacji]\n",
    "      ,[TypObszaru]\n",
    "      ,[RodzajStacji]\n",
    "      ,[Wojewodztwo]\n",
    "      ,[Miejscowosc]\n",
    "      ,[Ulica]\n",
    "      ,[Latitude]\n",
    "      ,[Longitude]\n",
    "  FROM [SmogoliczkaArchive].[dbo].[stacje]\n",
    "\"\"\""
   ]
  },
  {
   "cell_type": "code",
   "execution_count": 60,
   "metadata": {
    "ExecuteTime": {
     "end_time": "2021-01-28T21:01:42.642642Z",
     "start_time": "2021-01-28T20:59:09.833994Z"
    }
   },
   "outputs": [],
   "source": [
    "\n",
    "geolocator = Nominatim(user_agent=\"psierkin@gmail.com\")\n",
    "\n",
    "# 1 - conveneint function to delay between geocoding calls\n",
    "geocode = RateLimiter(geolocator.geocode, min_delay_seconds=1)\n",
    "df_orig = pd.read_sql(query, engine)\n",
    "df=df_orig.copy()\n",
    "df['adres']=df['Ulica']+\", \"+df['Miejscowosc']\n",
    "mask=df['Longitude']<0\n",
    "df=df[mask]\n",
    "\n",
    "df['lokalizacja'] = df['adres'].apply(lambda row: geocode(row))\n",
    "df['lokalizacja_2'] = df['Miejscowosc'].apply(lambda row: geocode(row))\n",
    "df['lokalizacja'].fillna(df['lokalizacja_2'],inplace=True)\n",
    "df['punkt'] = df['lokalizacja'].apply(lambda loc: tuple(loc.point) if loc else None)\n",
    "df[['latitude_new', 'longitude_new', 'altitude']] = pd.DataFrame(df['punkt'].tolist(), index=df.index)\n",
    "\n",
    "\n",
    "\n",
    "df['Latitude'] = df['Latitude'].replace(-999, np.nan)\n",
    "df['Longitude'] = df['Longitude'].replace(-999, np.nan)\n",
    "df['Latitude'].fillna(df['latitude_new'],inplace=True)\n",
    "df['Longitude'].fillna(df['longitude_new'],inplace=True)\n",
    "df.drop(columns=['adres','lokalizacja','punkt','latitude_new','lokalizacja_2', 'longitude_new', 'altitude'],inplace=True)\n",
    "df_orig.update(df)"
   ]
  },
  {
   "cell_type": "code",
   "execution_count": 62,
   "metadata": {
    "ExecuteTime": {
     "end_time": "2021-01-28T21:02:16.024027Z",
     "start_time": "2021-01-28T21:02:16.003029Z"
    }
   },
   "outputs": [
    {
     "data": {
      "text/html": [
       "<div>\n",
       "<style scoped>\n",
       "    .dataframe tbody tr th:only-of-type {\n",
       "        vertical-align: middle;\n",
       "    }\n",
       "\n",
       "    .dataframe tbody tr th {\n",
       "        vertical-align: top;\n",
       "    }\n",
       "\n",
       "    .dataframe thead th {\n",
       "        text-align: right;\n",
       "    }\n",
       "</style>\n",
       "<table border=\"1\" class=\"dataframe\">\n",
       "  <thead>\n",
       "    <tr style=\"text-align: right;\">\n",
       "      <th></th>\n",
       "      <th>KodStacji</th>\n",
       "      <th>KodMiedzynarodowy</th>\n",
       "      <th>NazwaStacji</th>\n",
       "      <th>StaryKodStacji</th>\n",
       "      <th>DataUruchomienia</th>\n",
       "      <th>DataZamkniecia</th>\n",
       "      <th>TypStacji</th>\n",
       "      <th>TypObszaru</th>\n",
       "      <th>RodzajStacji</th>\n",
       "      <th>Wojewodztwo</th>\n",
       "      <th>Miejscowosc</th>\n",
       "      <th>Ulica</th>\n",
       "      <th>Latitude</th>\n",
       "      <th>Longitude</th>\n",
       "    </tr>\n",
       "  </thead>\n",
       "  <tbody>\n",
       "  </tbody>\n",
       "</table>\n",
       "</div>"
      ],
      "text/plain": [
       "Empty DataFrame\n",
       "Columns: [KodStacji, KodMiedzynarodowy, NazwaStacji, StaryKodStacji, DataUruchomienia, DataZamkniecia, TypStacji, TypObszaru, RodzajStacji, Wojewodztwo, Miejscowosc, Ulica, Latitude, Longitude]\n",
       "Index: []"
      ]
     },
     "execution_count": 62,
     "metadata": {},
     "output_type": "execute_result"
    }
   ],
   "source": [
    "df_orig[df_orig['Longitude']<0]"
   ]
  },
  {
   "cell_type": "code",
   "execution_count": 64,
   "metadata": {
    "ExecuteTime": {
     "end_time": "2021-01-28T21:04:22.014388Z",
     "start_time": "2021-01-28T21:04:19.589040Z"
    }
   },
   "outputs": [],
   "source": [
    "#send data back to sql\n",
    "df_orig.to_sql(\"stacje_v2\", engine, if_exists=\"replace\",index=False)"
   ]
  },
  {
   "cell_type": "code",
   "execution_count": null,
   "metadata": {},
   "outputs": [],
   "source": []
  },
  {
   "cell_type": "code",
   "execution_count": null,
   "metadata": {},
   "outputs": [],
   "source": [
    "\n",
    "\n",
    "\n"
   ]
  },
  {
   "cell_type": "code",
   "execution_count": null,
   "metadata": {},
   "outputs": [],
   "source": []
  }
 ],
 "metadata": {
  "kernelspec": {
   "display_name": "Python 3",
   "language": "python",
   "name": "python3"
  },
  "language_info": {
   "codemirror_mode": {
    "name": "ipython",
    "version": 3
   },
   "file_extension": ".py",
   "mimetype": "text/x-python",
   "name": "python",
   "nbconvert_exporter": "python",
   "pygments_lexer": "ipython3",
   "version": "3.8.3"
  }
 },
 "nbformat": 4,
 "nbformat_minor": 4
}
