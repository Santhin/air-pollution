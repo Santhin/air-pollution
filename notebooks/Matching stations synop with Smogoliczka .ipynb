{
 "cells": [
  {
   "cell_type": "code",
   "execution_count": 16,
   "metadata": {
    "ExecuteTime": {
     "end_time": "2021-02-11T09:59:07.176403Z",
     "start_time": "2021-02-11T09:59:05.946405Z"
    }
   },
   "outputs": [],
   "source": [
    "# source https://medium.com/analytics-vidhya/finding-nearest-pair-of-latitude-and-longitude-match-using-python-ce50d62af546\n",
    "\n",
    "from math import radians, cos, sin, asin, sqrt\n",
    "import pandas as pd\n",
    "import io\n",
    "import sqlalchemy as sa\n",
    "import urllib\n",
    "import numpy as np\n",
    "from sklearn.neighbors import BallTree"
   ]
  },
  {
   "cell_type": "code",
   "execution_count": 2,
   "metadata": {
    "ExecuteTime": {
     "end_time": "2021-02-10T12:00:28.831000Z",
     "start_time": "2021-02-10T12:00:28.819000Z"
    }
   },
   "outputs": [],
   "source": [
    "class LatLonMatch:\n",
    "    def haversine(self, lon1, lat1, lon2, lat2):\n",
    "        \"\"\"\n",
    "        Calculate the great circle distance between two points \n",
    "        on the earth (specified in decimal degrees)\n",
    "        \"\"\"\n",
    "        # convert decimal degrees to radians\n",
    "        lon1, lat1, lon2, lat2 = map(radians, [lon1, lat1, lon2, lat2])\n",
    "        # haversine formula\n",
    "        dlon = lon2 - lon1\n",
    "        dlat = lat2 - lat1\n",
    "        a = sin(dlat/2)**2 + cos(lat1) * cos(lat2) * sin(dlon/2)**2\n",
    "        c = 2 * asin(sqrt(a))\n",
    "        # Radius of earth in kilometers is 6371\n",
    "        km = 6371 * c\n",
    "        return km\n",
    "\n",
    "    def find_nearest(self, lat, long, dfName, colName='Nazwa'):\n",
    "        distances = dfName.apply(\n",
    "            lambda row: self.dist(lat, long, row['lat'], row['lon']),\n",
    "            axis=1)\n",
    "        return dfName.loc[distances.idxmin(), colName]\n",
    "\n",
    "    def dist(self, lat1, long1, lat2, long2):\n",
    "        lat1, long1, lat2, long2 = map(radians, [lat1, long1, lat2, long2])\n",
    "        # haversine formula\n",
    "        dlon = long2 - long1\n",
    "        dlat = lat2 - lat1\n",
    "        a = sin(dlat/2)**2 + cos(lat1) * cos(lat2) * sin(dlon/2)**2\n",
    "        c = 2 * asin(sqrt(a))\n",
    "        # Radius of earth in kilometers is 6371\n",
    "        km = 6371 * c\n",
    "        return km"
   ]
  },
  {
   "cell_type": "code",
   "execution_count": 4,
   "metadata": {
    "ExecuteTime": {
     "end_time": "2021-02-10T12:00:38.232190Z",
     "start_time": "2021-02-10T12:00:37.547398Z"
    }
   },
   "outputs": [],
   "source": [
    "import os\n",
    "from dotenv import load_dotenv, find_dotenv\n",
    "\n",
    "load_dotenv(find_dotenv())\n",
    "\n",
    "SERVER = os.environ.get(\"SERVER\")\n",
    "DATABASE = os.environ.get(\"DATABASE\")\n",
    "\n",
    "USERNAME = os.environ.get(\"USERNAME\")\n",
    "PASSWORD = os.environ.get(\"PASSWORD\")\n",
    "\n",
    "conn = urllib.parse.quote_plus('DRIVER={ODBC Driver 17 for SQL Server};SERVER='+str(\n",
    "    SERVER)+';DATABASE='+str(DATABASE)+';UID='+str(USERNAME)+';PWD=' + str(PASSWORD))\n",
    "engine = sa.create_engine(\n",
    "    'mssql+pyodbc:///?odbc_connect={}'.format(conn), fast_executemany=True)\n",
    "query_synop = \"\"\"\n",
    "/****** Script for SelectTopNRows command from SSMS  ******/\n",
    "SELECT  [IDStacji]\n",
    "      ,[Nazwa]\n",
    "      ,[Kraj]\n",
    "      ,[Szerokosc]\n",
    "      ,[Dlugosc]\n",
    "  FROM [Synop].[dbo].[Stacje]\n",
    "  where Kraj in ('Poland')\n",
    "\"\"\"\n",
    "\n",
    "SynopStacje = pd.read_sql(query_synop, engine)\n",
    "SynopStacje = SynopStacje.rename(\n",
    "    columns={'Szerokosc': 'lat', 'Dlugosc': 'lon'})\n",
    "SynopStacje = SynopStacje.astype({'lat': 'float', 'lon': 'float'})\n",
    "query_smog = \"\"\"\n",
    "SELECT  \n",
    "      [KodStacji]\n",
    "      ,[Latitude]\n",
    "      ,[Longitude]\n",
    "  FROM [SmogoliczkaArchive].[dbo].[stacje_v2]\n",
    "\"\"\"\n",
    "SmogoliczkaStacje = pd.read_sql(query_smog, engine)\n",
    "SmogoliczkaStacje = SmogoliczkaStacje.rename(\n",
    "    columns={'Latitude': 'lat', 'Longitude': 'lon'})"
   ]
  },
  {
   "cell_type": "code",
   "execution_count": 5,
   "metadata": {
    "ExecuteTime": {
     "end_time": "2021-02-10T12:00:46.240500Z",
     "start_time": "2021-02-10T12:00:41.418356Z"
    }
   },
   "outputs": [],
   "source": [
    "SmogoliczkaStacje['Nazwa'] = SmogoliczkaStacje.apply(lambda row: LatLonMatch().find_nearest(row['lat'], row['lon'],SynopStacje,colName='Nazwa'), axis=1)\n",
    "# To check the data frame if it has a new column of hotel name (for each and every member's location in the list)\n",
    "SmogoliczkaStacje = pd.merge(SmogoliczkaStacje,SynopStacje,left_on='Nazwa', right_on='Nazwa', how='left')\n",
    "SmogoliczkaStacje=SmogoliczkaStacje.rename(columns = {'lat_x':'smog_lat','lon_x':'smog_lon','lat_y':'synop_lat','lon_y':'synop_lon'})\n",
    "SmogoliczkaStacje['distance'] = [LatLonMatch().haversine(SmogoliczkaStacje.smog_lon[i],SmogoliczkaStacje.smog_lat[i],SmogoliczkaStacje.synop_lon[i],SmogoliczkaStacje.synop_lat[i]) for i in range(len(SmogoliczkaStacje))]\n",
    "SmogoliczkaStacje['distance'] = SmogoliczkaStacje['distance'].round(decimals=3)"
   ]
  },
  {
   "cell_type": "code",
   "execution_count": 6,
   "metadata": {
    "ExecuteTime": {
     "end_time": "2021-02-10T12:00:46.301271Z",
     "start_time": "2021-02-10T12:00:46.242484Z"
    },
    "scrolled": true
   },
   "outputs": [
    {
     "data": {
      "text/html": [
       "<div>\n",
       "<style scoped>\n",
       "    .dataframe tbody tr th:only-of-type {\n",
       "        vertical-align: middle;\n",
       "    }\n",
       "\n",
       "    .dataframe tbody tr th {\n",
       "        vertical-align: top;\n",
       "    }\n",
       "\n",
       "    .dataframe thead th {\n",
       "        text-align: right;\n",
       "    }\n",
       "</style>\n",
       "<table border=\"1\" class=\"dataframe\">\n",
       "  <thead>\n",
       "    <tr style=\"text-align: right;\">\n",
       "      <th></th>\n",
       "      <th>KodStacji</th>\n",
       "      <th>smog_lat</th>\n",
       "      <th>smog_lon</th>\n",
       "      <th>Nazwa</th>\n",
       "      <th>IDStacji</th>\n",
       "      <th>Kraj</th>\n",
       "      <th>synop_lat</th>\n",
       "      <th>synop_lon</th>\n",
       "      <th>distance</th>\n",
       "    </tr>\n",
       "  </thead>\n",
       "  <tbody>\n",
       "    <tr>\n",
       "      <th>1031</th>\n",
       "      <td>ZpSzczPils02</td>\n",
       "      <td>53.432169</td>\n",
       "      <td>14.553900</td>\n",
       "      <td>Szczecin</td>\n",
       "      <td>12205</td>\n",
       "      <td>Poland</td>\n",
       "      <td>53.397047</td>\n",
       "      <td>14.620797</td>\n",
       "      <td>5.908</td>\n",
       "    </tr>\n",
       "    <tr>\n",
       "      <th>1032</th>\n",
       "      <td>ZpSzczWSSEEnerg</td>\n",
       "      <td>53.420475</td>\n",
       "      <td>14.561934</td>\n",
       "      <td>Szczecin</td>\n",
       "      <td>12205</td>\n",
       "      <td>Poland</td>\n",
       "      <td>53.397047</td>\n",
       "      <td>14.620797</td>\n",
       "      <td>4.691</td>\n",
       "    </tr>\n",
       "    <tr>\n",
       "      <th>1033</th>\n",
       "      <td>ZpSzczWSSESped6</td>\n",
       "      <td>53.415043</td>\n",
       "      <td>14.555347</td>\n",
       "      <td>Szczecin</td>\n",
       "      <td>12205</td>\n",
       "      <td>Poland</td>\n",
       "      <td>53.397047</td>\n",
       "      <td>14.620797</td>\n",
       "      <td>4.778</td>\n",
       "    </tr>\n",
       "    <tr>\n",
       "      <th>1034</th>\n",
       "      <td>ZpWalWalczWSSE</td>\n",
       "      <td>53.263667</td>\n",
       "      <td>16.492596</td>\n",
       "      <td>Piła</td>\n",
       "      <td>12230</td>\n",
       "      <td>Poland</td>\n",
       "      <td>53.130258</td>\n",
       "      <td>16.747900</td>\n",
       "      <td>22.567</td>\n",
       "    </tr>\n",
       "    <tr>\n",
       "      <th>1035</th>\n",
       "      <td>ZpWiduBulRyb</td>\n",
       "      <td>53.122325</td>\n",
       "      <td>14.382245</td>\n",
       "      <td>Szczecin</td>\n",
       "      <td>12205</td>\n",
       "      <td>Poland</td>\n",
       "      <td>53.397047</td>\n",
       "      <td>14.620797</td>\n",
       "      <td>34.423</td>\n",
       "    </tr>\n",
       "  </tbody>\n",
       "</table>\n",
       "</div>"
      ],
      "text/plain": [
       "            KodStacji   smog_lat   smog_lon     Nazwa  IDStacji    Kraj  \\\n",
       "1031     ZpSzczPils02  53.432169  14.553900  Szczecin     12205  Poland   \n",
       "1032  ZpSzczWSSEEnerg  53.420475  14.561934  Szczecin     12205  Poland   \n",
       "1033  ZpSzczWSSESped6  53.415043  14.555347  Szczecin     12205  Poland   \n",
       "1034   ZpWalWalczWSSE  53.263667  16.492596      Piła     12230  Poland   \n",
       "1035     ZpWiduBulRyb  53.122325  14.382245  Szczecin     12205  Poland   \n",
       "\n",
       "      synop_lat  synop_lon  distance  \n",
       "1031  53.397047  14.620797     5.908  \n",
       "1032  53.397047  14.620797     4.691  \n",
       "1033  53.397047  14.620797     4.778  \n",
       "1034  53.130258  16.747900    22.567  \n",
       "1035  53.397047  14.620797    34.423  "
      ]
     },
     "execution_count": 6,
     "metadata": {},
     "output_type": "execute_result"
    }
   ],
   "source": [
    "SmogoliczkaStacje.tail()\n"
   ]
  },
  {
   "cell_type": "code",
   "execution_count": 7,
   "metadata": {
    "ExecuteTime": {
     "end_time": "2021-02-10T12:00:49.223616Z",
     "start_time": "2021-02-10T12:00:47.739069Z"
    }
   },
   "outputs": [],
   "source": [
    "SmogoliczkaStacje.to_sql(\"synop_smog\", engine, if_exists=\"replace\",index=False)"
   ]
  },
  {
   "cell_type": "code",
   "execution_count": null,
   "metadata": {},
   "outputs": [],
   "source": []
  },
  {
   "cell_type": "code",
   "execution_count": null,
   "metadata": {},
   "outputs": [],
   "source": []
  },
  {
   "cell_type": "code",
   "execution_count": null,
   "metadata": {},
   "outputs": [],
   "source": []
  },
  {
   "cell_type": "code",
   "execution_count": 3,
   "metadata": {
    "ExecuteTime": {
     "end_time": "2021-02-11T09:58:12.442375Z",
     "start_time": "2021-02-11T09:58:12.036374Z"
    }
   },
   "outputs": [],
   "source": [
    "######## Przypisywanie najbliższych stacji meteo do Smogoliczki \n",
    "conn= urllib.parse.quote_plus('DRIVER={ODBC Driver 17 for SQL Server};SERVER='+str(server)+';DATABASE='+str(database)+';UID='+str(username)+';PWD='+ str(password))\n",
    "engine = sa.create_engine('mssql+pyodbc:///?odbc_connect={}'.format(conn),fast_executemany=True)\n",
    "query_synop = \"\"\"\n",
    "/****** Script for SelectTopNRows command from SSMS  ******/\n",
    "SELECT  [IDStacji]\n",
    "      ,[Nazwa]\n",
    "      ,[Kraj]\n",
    "      ,[Szerokosc]\n",
    "      ,[Dlugosc]\n",
    "  FROM [Synop].[dbo].[Stacje]\n",
    "  where Kraj in ('Poland')\n",
    "\"\"\"\n",
    "\n",
    "SynopStacje = pd.read_sql(query_synop, engine)\n",
    "SynopStacje=SynopStacje.rename(columns = {'Szerokosc':'lat','Dlugosc':'lon'})\n",
    "SynopStacje = SynopStacje.astype({'lat': 'float', 'lon': 'float'})"
   ]
  },
  {
   "cell_type": "code",
   "execution_count": 4,
   "metadata": {
    "ExecuteTime": {
     "end_time": "2021-02-11T09:58:13.341373Z",
     "start_time": "2021-02-11T09:58:13.115372Z"
    },
    "scrolled": true
   },
   "outputs": [],
   "source": [
    "query_smog = \"\"\"\n",
    "SELECT  \n",
    "      [KodStacji]\n",
    "      ,[Latitude]\n",
    "      ,[Longitude]\n",
    "  FROM [SmogoliczkaArchive].[dbo].[stacje_v2]\n",
    "\"\"\"\n",
    "SmogoliczkaStacje = pd.read_sql(query_smog, engine)\n",
    "SmogoliczkaStacje=SmogoliczkaStacje.rename(columns = {'Latitude':'lat','Longitude':'lon'})\n"
   ]
  },
  {
   "cell_type": "code",
   "execution_count": 5,
   "metadata": {
    "ExecuteTime": {
     "end_time": "2021-02-11T09:58:13.859374Z",
     "start_time": "2021-02-11T09:58:13.819373Z"
    }
   },
   "outputs": [
    {
     "data": {
      "text/html": [
       "<div>\n",
       "<style scoped>\n",
       "    .dataframe tbody tr th:only-of-type {\n",
       "        vertical-align: middle;\n",
       "    }\n",
       "\n",
       "    .dataframe tbody tr th {\n",
       "        vertical-align: top;\n",
       "    }\n",
       "\n",
       "    .dataframe thead th {\n",
       "        text-align: right;\n",
       "    }\n",
       "</style>\n",
       "<table border=\"1\" class=\"dataframe\">\n",
       "  <thead>\n",
       "    <tr style=\"text-align: right;\">\n",
       "      <th></th>\n",
       "      <th>KodStacji</th>\n",
       "      <th>lat</th>\n",
       "      <th>lon</th>\n",
       "    </tr>\n",
       "  </thead>\n",
       "  <tbody>\n",
       "    <tr>\n",
       "      <th>0</th>\n",
       "      <td>DsBialka</td>\n",
       "      <td>51.197783</td>\n",
       "      <td>16.117390</td>\n",
       "    </tr>\n",
       "    <tr>\n",
       "      <th>1</th>\n",
       "      <td>DsBielGrot</td>\n",
       "      <td>50.682510</td>\n",
       "      <td>16.617348</td>\n",
       "    </tr>\n",
       "    <tr>\n",
       "      <th>2</th>\n",
       "      <td>DsBogatFrancMOB</td>\n",
       "      <td>50.940998</td>\n",
       "      <td>14.916790</td>\n",
       "    </tr>\n",
       "    <tr>\n",
       "      <th>3</th>\n",
       "      <td>DsBogChop</td>\n",
       "      <td>50.905856</td>\n",
       "      <td>14.967175</td>\n",
       "    </tr>\n",
       "    <tr>\n",
       "      <th>4</th>\n",
       "      <td>DsBogZatonieMob</td>\n",
       "      <td>50.943245</td>\n",
       "      <td>14.913327</td>\n",
       "    </tr>\n",
       "  </tbody>\n",
       "</table>\n",
       "</div>"
      ],
      "text/plain": [
       "         KodStacji        lat        lon\n",
       "0         DsBialka  51.197783  16.117390\n",
       "1       DsBielGrot  50.682510  16.617348\n",
       "2  DsBogatFrancMOB  50.940998  14.916790\n",
       "3        DsBogChop  50.905856  14.967175\n",
       "4  DsBogZatonieMob  50.943245  14.913327"
      ]
     },
     "execution_count": 5,
     "metadata": {},
     "output_type": "execute_result"
    }
   ],
   "source": [
    "SmogoliczkaStacje.head()"
   ]
  },
  {
   "cell_type": "code",
   "execution_count": 6,
   "metadata": {
    "ExecuteTime": {
     "end_time": "2021-02-11T09:58:14.363372Z",
     "start_time": "2021-02-11T09:58:14.340372Z"
    }
   },
   "outputs": [
    {
     "data": {
      "text/html": [
       "<div>\n",
       "<style scoped>\n",
       "    .dataframe tbody tr th:only-of-type {\n",
       "        vertical-align: middle;\n",
       "    }\n",
       "\n",
       "    .dataframe tbody tr th {\n",
       "        vertical-align: top;\n",
       "    }\n",
       "\n",
       "    .dataframe thead th {\n",
       "        text-align: right;\n",
       "    }\n",
       "</style>\n",
       "<table border=\"1\" class=\"dataframe\">\n",
       "  <thead>\n",
       "    <tr style=\"text-align: right;\">\n",
       "      <th></th>\n",
       "      <th>IDStacji</th>\n",
       "      <th>Nazwa</th>\n",
       "      <th>Kraj</th>\n",
       "      <th>lat</th>\n",
       "      <th>lon</th>\n",
       "    </tr>\n",
       "  </thead>\n",
       "  <tbody>\n",
       "    <tr>\n",
       "      <th>0</th>\n",
       "      <td>12001</td>\n",
       "      <td>Petrobaltic Beta</td>\n",
       "      <td>Poland</td>\n",
       "      <td>55.466667</td>\n",
       "      <td>18.166667</td>\n",
       "    </tr>\n",
       "    <tr>\n",
       "      <th>1</th>\n",
       "      <td>12100</td>\n",
       "      <td>Kołobrzeg</td>\n",
       "      <td>Poland</td>\n",
       "      <td>54.182823</td>\n",
       "      <td>15.580516</td>\n",
       "    </tr>\n",
       "    <tr>\n",
       "      <th>2</th>\n",
       "      <td>12105</td>\n",
       "      <td>Koszalin</td>\n",
       "      <td>Poland</td>\n",
       "      <td>54.204928</td>\n",
       "      <td>16.156022</td>\n",
       "    </tr>\n",
       "    <tr>\n",
       "      <th>3</th>\n",
       "      <td>12106</td>\n",
       "      <td>Koszalin Zegrze Pom.</td>\n",
       "      <td>Poland</td>\n",
       "      <td>54.042222</td>\n",
       "      <td>16.263611</td>\n",
       "    </tr>\n",
       "    <tr>\n",
       "      <th>4</th>\n",
       "      <td>12115</td>\n",
       "      <td>Ustka</td>\n",
       "      <td>Poland</td>\n",
       "      <td>54.586395</td>\n",
       "      <td>16.854320</td>\n",
       "    </tr>\n",
       "  </tbody>\n",
       "</table>\n",
       "</div>"
      ],
      "text/plain": [
       "   IDStacji                 Nazwa    Kraj        lat        lon\n",
       "0     12001      Petrobaltic Beta  Poland  55.466667  18.166667\n",
       "1     12100             Kołobrzeg  Poland  54.182823  15.580516\n",
       "2     12105             Koszalin   Poland  54.204928  16.156022\n",
       "3     12106  Koszalin Zegrze Pom.  Poland  54.042222  16.263611\n",
       "4     12115                Ustka   Poland  54.586395  16.854320"
      ]
     },
     "execution_count": 6,
     "metadata": {},
     "output_type": "execute_result"
    }
   ],
   "source": [
    "SynopStacje.head()"
   ]
  },
  {
   "cell_type": "code",
   "execution_count": 12,
   "metadata": {
    "ExecuteTime": {
     "end_time": "2021-02-11T09:58:31.627459Z",
     "start_time": "2021-02-11T09:58:31.611461Z"
    }
   },
   "outputs": [],
   "source": [
    "def degrees_to_radians(df):\n",
    "    df['lat_rad'] = np.deg2rad(df['lat'])\n",
    "    df['lon_rad'] = np.deg2rad(df['lon'])\n",
    "    return df\n",
    "\n",
    "\n",
    "def radians_to_kilometers(rad):\n",
    "    # Options here: https://geopy.readthedocs.io/en/stable/#module-geopy.distance\n",
    "    earth_radius = 6371.0087714150598\n",
    "    return rad * earth_radius"
   ]
  },
  {
   "cell_type": "code",
   "execution_count": 17,
   "metadata": {
    "ExecuteTime": {
     "end_time": "2021-02-11T09:59:10.452407Z",
     "start_time": "2021-02-11T09:59:10.435407Z"
    }
   },
   "outputs": [],
   "source": [
    "SmogoliczkaStacje=degrees_to_radians(SmogoliczkaStacje)\n",
    "SynopStacje=degrees_to_radians(SynopStacje)"
   ]
  },
  {
   "cell_type": "code",
   "execution_count": 18,
   "metadata": {
    "ExecuteTime": {
     "end_time": "2021-02-11T09:59:10.734403Z",
     "start_time": "2021-02-11T09:59:10.708404Z"
    }
   },
   "outputs": [],
   "source": [
    "ball = BallTree(SynopStacje[[\"lat_rad\", \"lon_rad\"]], metric='haversine')\n",
    "k = 3\n",
    "distances, indices = ball.query(SmogoliczkaStacje[[\"lat_rad\", \"lon_rad\"]], k = k)"
   ]
  },
  {
   "cell_type": "code",
   "execution_count": 19,
   "metadata": {
    "ExecuteTime": {
     "end_time": "2021-02-11T09:59:11.345405Z",
     "start_time": "2021-02-11T09:59:11.338405Z"
    }
   },
   "outputs": [],
   "source": [
    "distances=radians_to_kilometers(distances)"
   ]
  },
  {
   "cell_type": "code",
   "execution_count": 20,
   "metadata": {
    "ExecuteTime": {
     "end_time": "2021-02-11T09:59:11.918407Z",
     "start_time": "2021-02-11T09:59:11.874406Z"
    }
   },
   "outputs": [],
   "source": [
    "columns=['distance_1', 'distance_2','distance_3']\n",
    "distance_df=pd.DataFrame(distances,columns=columns)\n",
    "columns=['station_1', 'station_2','station_3']\n",
    "indices_df=pd.DataFrame(indices,columns=columns)\n",
    "dict_loc_a=SynopStacje['Nazwa'].to_dict()\n",
    "indices_df=indices_df.replace({\"station_1\": dict_loc_a,'station_2':dict_loc_a,'station_3':dict_loc_a})\n",
    "test=pd.concat([SmogoliczkaStacje, indices_df,distance_df], axis=1)"
   ]
  },
  {
   "cell_type": "code",
   "execution_count": 21,
   "metadata": {
    "ExecuteTime": {
     "end_time": "2021-02-11T09:59:12.408405Z",
     "start_time": "2021-02-11T09:59:12.378404Z"
    },
    "scrolled": true
   },
   "outputs": [
    {
     "data": {
      "text/html": [
       "<div>\n",
       "<style scoped>\n",
       "    .dataframe tbody tr th:only-of-type {\n",
       "        vertical-align: middle;\n",
       "    }\n",
       "\n",
       "    .dataframe tbody tr th {\n",
       "        vertical-align: top;\n",
       "    }\n",
       "\n",
       "    .dataframe thead th {\n",
       "        text-align: right;\n",
       "    }\n",
       "</style>\n",
       "<table border=\"1\" class=\"dataframe\">\n",
       "  <thead>\n",
       "    <tr style=\"text-align: right;\">\n",
       "      <th></th>\n",
       "      <th>KodStacji</th>\n",
       "      <th>lat</th>\n",
       "      <th>lon</th>\n",
       "      <th>lat_rad</th>\n",
       "      <th>lon_rad</th>\n",
       "      <th>station_1</th>\n",
       "      <th>station_2</th>\n",
       "      <th>station_3</th>\n",
       "      <th>distance_1</th>\n",
       "      <th>distance_2</th>\n",
       "      <th>distance_3</th>\n",
       "    </tr>\n",
       "  </thead>\n",
       "  <tbody>\n",
       "    <tr>\n",
       "      <th>0</th>\n",
       "      <td>DsBialka</td>\n",
       "      <td>51.197783</td>\n",
       "      <td>16.117390</td>\n",
       "      <td>0.893570</td>\n",
       "      <td>0.281302</td>\n",
       "      <td>Legnica</td>\n",
       "      <td>Jelenia Góra</td>\n",
       "      <td>Wrocław-Strachowice</td>\n",
       "      <td>6.313416</td>\n",
       "      <td>40.281631</td>\n",
       "      <td>54.106779</td>\n",
       "    </tr>\n",
       "    <tr>\n",
       "      <th>1</th>\n",
       "      <td>DsBielGrot</td>\n",
       "      <td>50.682510</td>\n",
       "      <td>16.617348</td>\n",
       "      <td>0.884577</td>\n",
       "      <td>0.290027</td>\n",
       "      <td>Kłodzko</td>\n",
       "      <td>Wrocław-Strachowice</td>\n",
       "      <td>Wrocław</td>\n",
       "      <td>27.273630</td>\n",
       "      <td>50.928575</td>\n",
       "      <td>55.549745</td>\n",
       "    </tr>\n",
       "    <tr>\n",
       "      <th>2</th>\n",
       "      <td>DsBogatFrancMOB</td>\n",
       "      <td>50.940998</td>\n",
       "      <td>14.916790</td>\n",
       "      <td>0.889088</td>\n",
       "      <td>0.260347</td>\n",
       "      <td>Zgorzelec</td>\n",
       "      <td>Śnieżka</td>\n",
       "      <td>Jelenia Góra</td>\n",
       "      <td>22.886553</td>\n",
       "      <td>59.510855</td>\n",
       "      <td>61.247268</td>\n",
       "    </tr>\n",
       "    <tr>\n",
       "      <th>3</th>\n",
       "      <td>DsBogChop</td>\n",
       "      <td>50.905856</td>\n",
       "      <td>14.967175</td>\n",
       "      <td>0.888475</td>\n",
       "      <td>0.261226</td>\n",
       "      <td>Zgorzelec</td>\n",
       "      <td>Śnieżka</td>\n",
       "      <td>Jelenia Góra</td>\n",
       "      <td>25.714147</td>\n",
       "      <td>55.030151</td>\n",
       "      <td>57.574262</td>\n",
       "    </tr>\n",
       "    <tr>\n",
       "      <th>4</th>\n",
       "      <td>DsBogZatonieMob</td>\n",
       "      <td>50.943245</td>\n",
       "      <td>14.913327</td>\n",
       "      <td>0.889127</td>\n",
       "      <td>0.260287</td>\n",
       "      <td>Zgorzelec</td>\n",
       "      <td>Śnieżka</td>\n",
       "      <td>Jelenia Góra</td>\n",
       "      <td>22.741395</td>\n",
       "      <td>59.817677</td>\n",
       "      <td>61.506697</td>\n",
       "    </tr>\n",
       "  </tbody>\n",
       "</table>\n",
       "</div>"
      ],
      "text/plain": [
       "         KodStacji        lat        lon   lat_rad   lon_rad  station_1  \\\n",
       "0         DsBialka  51.197783  16.117390  0.893570  0.281302    Legnica   \n",
       "1       DsBielGrot  50.682510  16.617348  0.884577  0.290027    Kłodzko   \n",
       "2  DsBogatFrancMOB  50.940998  14.916790  0.889088  0.260347  Zgorzelec   \n",
       "3        DsBogChop  50.905856  14.967175  0.888475  0.261226  Zgorzelec   \n",
       "4  DsBogZatonieMob  50.943245  14.913327  0.889127  0.260287  Zgorzelec   \n",
       "\n",
       "             station_2            station_3  distance_1  distance_2  \\\n",
       "0         Jelenia Góra  Wrocław-Strachowice    6.313416   40.281631   \n",
       "1  Wrocław-Strachowice              Wrocław   27.273630   50.928575   \n",
       "2              Śnieżka         Jelenia Góra   22.886553   59.510855   \n",
       "3              Śnieżka         Jelenia Góra   25.714147   55.030151   \n",
       "4              Śnieżka         Jelenia Góra   22.741395   59.817677   \n",
       "\n",
       "   distance_3  \n",
       "0   54.106779  \n",
       "1   55.549745  \n",
       "2   61.247268  \n",
       "3   57.574262  \n",
       "4   61.506697  "
      ]
     },
     "execution_count": 21,
     "metadata": {},
     "output_type": "execute_result"
    }
   ],
   "source": [
    "test.head()"
   ]
  },
  {
   "cell_type": "code",
   "execution_count": 27,
   "metadata": {
    "ExecuteTime": {
     "end_time": "2021-02-11T09:59:23.467405Z",
     "start_time": "2021-02-11T09:59:23.386405Z"
    },
    "scrolled": true
   },
   "outputs": [],
   "source": [
    "test['station_1_id']=test['station_1'].replace(SynopStacje.set_index(\"Nazwa\")['IDStacji'].to_dict())\n",
    "test['station_2_id']=test['station_2'].replace(SynopStacje.set_index(\"Nazwa\")['IDStacji'].to_dict())\n",
    "test['station_3_id']=test['station_3'].replace(SynopStacje.set_index(\"Nazwa\")['IDStacji'].to_dict())"
   ]
  },
  {
   "cell_type": "code",
   "execution_count": 28,
   "metadata": {
    "ExecuteTime": {
     "end_time": "2021-02-11T09:59:23.816405Z",
     "start_time": "2021-02-11T09:59:23.794404Z"
    }
   },
   "outputs": [
    {
     "data": {
      "text/html": [
       "<div>\n",
       "<style scoped>\n",
       "    .dataframe tbody tr th:only-of-type {\n",
       "        vertical-align: middle;\n",
       "    }\n",
       "\n",
       "    .dataframe tbody tr th {\n",
       "        vertical-align: top;\n",
       "    }\n",
       "\n",
       "    .dataframe thead th {\n",
       "        text-align: right;\n",
       "    }\n",
       "</style>\n",
       "<table border=\"1\" class=\"dataframe\">\n",
       "  <thead>\n",
       "    <tr style=\"text-align: right;\">\n",
       "      <th></th>\n",
       "      <th>KodStacji</th>\n",
       "      <th>lat</th>\n",
       "      <th>lon</th>\n",
       "      <th>lat_rad</th>\n",
       "      <th>lon_rad</th>\n",
       "      <th>station_1</th>\n",
       "      <th>station_2</th>\n",
       "      <th>station_3</th>\n",
       "      <th>distance_1</th>\n",
       "      <th>distance_2</th>\n",
       "      <th>distance_3</th>\n",
       "      <th>station_1_id</th>\n",
       "      <th>station_2_id</th>\n",
       "      <th>station_3_id</th>\n",
       "    </tr>\n",
       "  </thead>\n",
       "  <tbody>\n",
       "    <tr>\n",
       "      <th>0</th>\n",
       "      <td>DsBialka</td>\n",
       "      <td>51.197783</td>\n",
       "      <td>16.117390</td>\n",
       "      <td>0.893570</td>\n",
       "      <td>0.281302</td>\n",
       "      <td>Legnica</td>\n",
       "      <td>Jelenia Góra</td>\n",
       "      <td>Wrocław-Strachowice</td>\n",
       "      <td>6.313416</td>\n",
       "      <td>40.281631</td>\n",
       "      <td>54.106779</td>\n",
       "      <td>12415</td>\n",
       "      <td>12500</td>\n",
       "      <td>12424</td>\n",
       "    </tr>\n",
       "    <tr>\n",
       "      <th>1</th>\n",
       "      <td>DsBielGrot</td>\n",
       "      <td>50.682510</td>\n",
       "      <td>16.617348</td>\n",
       "      <td>0.884577</td>\n",
       "      <td>0.290027</td>\n",
       "      <td>Kłodzko</td>\n",
       "      <td>Wrocław-Strachowice</td>\n",
       "      <td>Wrocław</td>\n",
       "      <td>27.273630</td>\n",
       "      <td>50.928575</td>\n",
       "      <td>55.549745</td>\n",
       "      <td>12520</td>\n",
       "      <td>12424</td>\n",
       "      <td>12425</td>\n",
       "    </tr>\n",
       "    <tr>\n",
       "      <th>2</th>\n",
       "      <td>DsBogatFrancMOB</td>\n",
       "      <td>50.940998</td>\n",
       "      <td>14.916790</td>\n",
       "      <td>0.889088</td>\n",
       "      <td>0.260347</td>\n",
       "      <td>Zgorzelec</td>\n",
       "      <td>Śnieżka</td>\n",
       "      <td>Jelenia Góra</td>\n",
       "      <td>22.886553</td>\n",
       "      <td>59.510855</td>\n",
       "      <td>61.247268</td>\n",
       "      <td>12405</td>\n",
       "      <td>12510</td>\n",
       "      <td>12500</td>\n",
       "    </tr>\n",
       "    <tr>\n",
       "      <th>3</th>\n",
       "      <td>DsBogChop</td>\n",
       "      <td>50.905856</td>\n",
       "      <td>14.967175</td>\n",
       "      <td>0.888475</td>\n",
       "      <td>0.261226</td>\n",
       "      <td>Zgorzelec</td>\n",
       "      <td>Śnieżka</td>\n",
       "      <td>Jelenia Góra</td>\n",
       "      <td>25.714147</td>\n",
       "      <td>55.030151</td>\n",
       "      <td>57.574262</td>\n",
       "      <td>12405</td>\n",
       "      <td>12510</td>\n",
       "      <td>12500</td>\n",
       "    </tr>\n",
       "    <tr>\n",
       "      <th>4</th>\n",
       "      <td>DsBogZatonieMob</td>\n",
       "      <td>50.943245</td>\n",
       "      <td>14.913327</td>\n",
       "      <td>0.889127</td>\n",
       "      <td>0.260287</td>\n",
       "      <td>Zgorzelec</td>\n",
       "      <td>Śnieżka</td>\n",
       "      <td>Jelenia Góra</td>\n",
       "      <td>22.741395</td>\n",
       "      <td>59.817677</td>\n",
       "      <td>61.506697</td>\n",
       "      <td>12405</td>\n",
       "      <td>12510</td>\n",
       "      <td>12500</td>\n",
       "    </tr>\n",
       "  </tbody>\n",
       "</table>\n",
       "</div>"
      ],
      "text/plain": [
       "         KodStacji        lat        lon   lat_rad   lon_rad  station_1  \\\n",
       "0         DsBialka  51.197783  16.117390  0.893570  0.281302    Legnica   \n",
       "1       DsBielGrot  50.682510  16.617348  0.884577  0.290027    Kłodzko   \n",
       "2  DsBogatFrancMOB  50.940998  14.916790  0.889088  0.260347  Zgorzelec   \n",
       "3        DsBogChop  50.905856  14.967175  0.888475  0.261226  Zgorzelec   \n",
       "4  DsBogZatonieMob  50.943245  14.913327  0.889127  0.260287  Zgorzelec   \n",
       "\n",
       "             station_2            station_3  distance_1  distance_2  \\\n",
       "0         Jelenia Góra  Wrocław-Strachowice    6.313416   40.281631   \n",
       "1  Wrocław-Strachowice              Wrocław   27.273630   50.928575   \n",
       "2              Śnieżka         Jelenia Góra   22.886553   59.510855   \n",
       "3              Śnieżka         Jelenia Góra   25.714147   55.030151   \n",
       "4              Śnieżka         Jelenia Góra   22.741395   59.817677   \n",
       "\n",
       "   distance_3  station_1_id  station_2_id  station_3_id  \n",
       "0   54.106779         12415         12500         12424  \n",
       "1   55.549745         12520         12424         12425  \n",
       "2   61.247268         12405         12510         12500  \n",
       "3   57.574262         12405         12510         12500  \n",
       "4   61.506697         12405         12510         12500  "
      ]
     },
     "execution_count": 28,
     "metadata": {},
     "output_type": "execute_result"
    }
   ],
   "source": [
    "test.head()"
   ]
  },
  {
   "cell_type": "code",
   "execution_count": 29,
   "metadata": {
    "ExecuteTime": {
     "end_time": "2021-02-11T09:59:24.738407Z",
     "start_time": "2021-02-11T09:59:24.726406Z"
    }
   },
   "outputs": [],
   "source": [
    "columns = ['KodStacji',\n",
    " 'lat',\n",
    " 'lon',\n",
    " 'lat_rad',\n",
    " 'lon_rad',\n",
    " 'station_1_id',           \n",
    " 'station_1',\n",
    " 'distance_1',\n",
    "'station_2_id',\n",
    "'station_2',\n",
    "'distance_2',\n",
    " 'station_3',\n",
    " 'distance_3',\n",
    " 'station_3_id']"
   ]
  },
  {
   "cell_type": "code",
   "execution_count": 30,
   "metadata": {
    "ExecuteTime": {
     "end_time": "2021-02-11T09:59:25.150404Z",
     "start_time": "2021-02-11T09:59:25.138406Z"
    }
   },
   "outputs": [],
   "source": [
    "test = test[columns]"
   ]
  },
  {
   "cell_type": "code",
   "execution_count": 31,
   "metadata": {
    "ExecuteTime": {
     "end_time": "2021-02-11T09:59:25.860405Z",
     "start_time": "2021-02-11T09:59:25.778405Z"
    }
   },
   "outputs": [
    {
     "name": "stderr",
     "output_type": "stream",
     "text": [
      "C:\\Users\\p_sierkin\\Miniconda3\\envs\\real_estate\\lib\\site-packages\\pandas\\core\\frame.py:3930: SettingWithCopyWarning: \n",
      "A value is trying to be set on a copy of a slice from a DataFrame\n",
      "\n",
      "See the caveats in the documentation: http://pandas.pydata.org/pandas-docs/stable/indexing.html#indexing-view-versus-copy\n",
      "  errors=errors)\n"
     ]
    }
   ],
   "source": [
    "test.drop(columns=['lat_rad','lon_rad'],inplace=True)"
   ]
  },
  {
   "cell_type": "code",
   "execution_count": 32,
   "metadata": {
    "ExecuteTime": {
     "end_time": "2021-02-11T09:59:26.569406Z",
     "start_time": "2021-02-11T09:59:26.547404Z"
    }
   },
   "outputs": [
    {
     "data": {
      "text/html": [
       "<div>\n",
       "<style scoped>\n",
       "    .dataframe tbody tr th:only-of-type {\n",
       "        vertical-align: middle;\n",
       "    }\n",
       "\n",
       "    .dataframe tbody tr th {\n",
       "        vertical-align: top;\n",
       "    }\n",
       "\n",
       "    .dataframe thead th {\n",
       "        text-align: right;\n",
       "    }\n",
       "</style>\n",
       "<table border=\"1\" class=\"dataframe\">\n",
       "  <thead>\n",
       "    <tr style=\"text-align: right;\">\n",
       "      <th></th>\n",
       "      <th>KodStacji</th>\n",
       "      <th>lat</th>\n",
       "      <th>lon</th>\n",
       "      <th>station_1_id</th>\n",
       "      <th>station_1</th>\n",
       "      <th>distance_1</th>\n",
       "      <th>station_2_id</th>\n",
       "      <th>station_2</th>\n",
       "      <th>distance_2</th>\n",
       "      <th>station_3</th>\n",
       "      <th>distance_3</th>\n",
       "      <th>station_3_id</th>\n",
       "    </tr>\n",
       "  </thead>\n",
       "  <tbody>\n",
       "    <tr>\n",
       "      <th>0</th>\n",
       "      <td>DsBialka</td>\n",
       "      <td>51.197783</td>\n",
       "      <td>16.117390</td>\n",
       "      <td>12415</td>\n",
       "      <td>Legnica</td>\n",
       "      <td>6.313416</td>\n",
       "      <td>12500</td>\n",
       "      <td>Jelenia Góra</td>\n",
       "      <td>40.281631</td>\n",
       "      <td>Wrocław-Strachowice</td>\n",
       "      <td>54.106779</td>\n",
       "      <td>12424</td>\n",
       "    </tr>\n",
       "    <tr>\n",
       "      <th>1</th>\n",
       "      <td>DsBielGrot</td>\n",
       "      <td>50.682510</td>\n",
       "      <td>16.617348</td>\n",
       "      <td>12520</td>\n",
       "      <td>Kłodzko</td>\n",
       "      <td>27.273630</td>\n",
       "      <td>12424</td>\n",
       "      <td>Wrocław-Strachowice</td>\n",
       "      <td>50.928575</td>\n",
       "      <td>Wrocław</td>\n",
       "      <td>55.549745</td>\n",
       "      <td>12425</td>\n",
       "    </tr>\n",
       "    <tr>\n",
       "      <th>2</th>\n",
       "      <td>DsBogatFrancMOB</td>\n",
       "      <td>50.940998</td>\n",
       "      <td>14.916790</td>\n",
       "      <td>12405</td>\n",
       "      <td>Zgorzelec</td>\n",
       "      <td>22.886553</td>\n",
       "      <td>12510</td>\n",
       "      <td>Śnieżka</td>\n",
       "      <td>59.510855</td>\n",
       "      <td>Jelenia Góra</td>\n",
       "      <td>61.247268</td>\n",
       "      <td>12500</td>\n",
       "    </tr>\n",
       "    <tr>\n",
       "      <th>3</th>\n",
       "      <td>DsBogChop</td>\n",
       "      <td>50.905856</td>\n",
       "      <td>14.967175</td>\n",
       "      <td>12405</td>\n",
       "      <td>Zgorzelec</td>\n",
       "      <td>25.714147</td>\n",
       "      <td>12510</td>\n",
       "      <td>Śnieżka</td>\n",
       "      <td>55.030151</td>\n",
       "      <td>Jelenia Góra</td>\n",
       "      <td>57.574262</td>\n",
       "      <td>12500</td>\n",
       "    </tr>\n",
       "    <tr>\n",
       "      <th>4</th>\n",
       "      <td>DsBogZatonieMob</td>\n",
       "      <td>50.943245</td>\n",
       "      <td>14.913327</td>\n",
       "      <td>12405</td>\n",
       "      <td>Zgorzelec</td>\n",
       "      <td>22.741395</td>\n",
       "      <td>12510</td>\n",
       "      <td>Śnieżka</td>\n",
       "      <td>59.817677</td>\n",
       "      <td>Jelenia Góra</td>\n",
       "      <td>61.506697</td>\n",
       "      <td>12500</td>\n",
       "    </tr>\n",
       "  </tbody>\n",
       "</table>\n",
       "</div>"
      ],
      "text/plain": [
       "         KodStacji        lat        lon  station_1_id  station_1  distance_1  \\\n",
       "0         DsBialka  51.197783  16.117390         12415    Legnica    6.313416   \n",
       "1       DsBielGrot  50.682510  16.617348         12520    Kłodzko   27.273630   \n",
       "2  DsBogatFrancMOB  50.940998  14.916790         12405  Zgorzelec   22.886553   \n",
       "3        DsBogChop  50.905856  14.967175         12405  Zgorzelec   25.714147   \n",
       "4  DsBogZatonieMob  50.943245  14.913327         12405  Zgorzelec   22.741395   \n",
       "\n",
       "   station_2_id            station_2  distance_2            station_3  \\\n",
       "0         12500         Jelenia Góra   40.281631  Wrocław-Strachowice   \n",
       "1         12424  Wrocław-Strachowice   50.928575              Wrocław   \n",
       "2         12510              Śnieżka   59.510855         Jelenia Góra   \n",
       "3         12510              Śnieżka   55.030151         Jelenia Góra   \n",
       "4         12510              Śnieżka   59.817677         Jelenia Góra   \n",
       "\n",
       "   distance_3  station_3_id  \n",
       "0   54.106779         12424  \n",
       "1   55.549745         12425  \n",
       "2   61.247268         12500  \n",
       "3   57.574262         12500  \n",
       "4   61.506697         12500  "
      ]
     },
     "execution_count": 32,
     "metadata": {},
     "output_type": "execute_result"
    }
   ],
   "source": [
    "test.head()"
   ]
  },
  {
   "cell_type": "code",
   "execution_count": 215,
   "metadata": {
    "ExecuteTime": {
     "end_time": "2021-02-10T22:41:30.589881Z",
     "start_time": "2021-02-10T22:41:30.561883Z"
    }
   },
   "outputs": [
    {
     "data": {
      "text/html": [
       "<div>\n",
       "<style scoped>\n",
       "    .dataframe tbody tr th:only-of-type {\n",
       "        vertical-align: middle;\n",
       "    }\n",
       "\n",
       "    .dataframe tbody tr th {\n",
       "        vertical-align: top;\n",
       "    }\n",
       "\n",
       "    .dataframe thead th {\n",
       "        text-align: right;\n",
       "    }\n",
       "</style>\n",
       "<table border=\"1\" class=\"dataframe\">\n",
       "  <thead>\n",
       "    <tr style=\"text-align: right;\">\n",
       "      <th></th>\n",
       "      <th>KodStacji</th>\n",
       "      <th>lat</th>\n",
       "      <th>lon</th>\n",
       "      <th>station_1_id</th>\n",
       "      <th>station_1</th>\n",
       "      <th>distance_1</th>\n",
       "      <th>station_2_id</th>\n",
       "      <th>station_2</th>\n",
       "      <th>distance_2</th>\n",
       "      <th>station_3</th>\n",
       "      <th>distance_3</th>\n",
       "      <th>station_3_id</th>\n",
       "    </tr>\n",
       "  </thead>\n",
       "  <tbody>\n",
       "    <tr>\n",
       "      <th>3</th>\n",
       "      <td>DsBogChop</td>\n",
       "      <td>50.905856</td>\n",
       "      <td>14.967175</td>\n",
       "      <td>12405</td>\n",
       "      <td>Zgorzelec</td>\n",
       "      <td>25.714147</td>\n",
       "      <td>12510</td>\n",
       "      <td>Śnieżka</td>\n",
       "      <td>55.030151</td>\n",
       "      <td>Jelenia Góra</td>\n",
       "      <td>57.574262</td>\n",
       "      <td>12500</td>\n",
       "    </tr>\n",
       "  </tbody>\n",
       "</table>\n",
       "</div>"
      ],
      "text/plain": [
       "   KodStacji        lat        lon  station_1_id  station_1  distance_1  \\\n",
       "3  DsBogChop  50.905856  14.967175         12405  Zgorzelec   25.714147   \n",
       "\n",
       "   station_2_id station_2  distance_2     station_3  distance_3  station_3_id  \n",
       "3         12510   Śnieżka   55.030151  Jelenia Góra   57.574262         12500  "
      ]
     },
     "execution_count": 215,
     "metadata": {},
     "output_type": "execute_result"
    }
   ],
   "source": [
    "test[test['KodStacji']=='DsBogChop']"
   ]
  },
  {
   "cell_type": "code",
   "execution_count": 33,
   "metadata": {
    "ExecuteTime": {
     "end_time": "2021-02-11T10:00:06.589551Z",
     "start_time": "2021-02-11T10:00:06.226554Z"
    }
   },
   "outputs": [],
   "source": [
    "test.to_sql(\"synop_smogv2\", engine, if_exists=\"replace\",index=False)"
   ]
  },
  {
   "cell_type": "code",
   "execution_count": null,
   "metadata": {},
   "outputs": [],
   "source": []
  }
 ],
 "metadata": {
  "kernelspec": {
   "display_name": "Python 3",
   "language": "python",
   "name": "python3"
  },
  "language_info": {
   "codemirror_mode": {
    "name": "ipython",
    "version": 3
   },
   "file_extension": ".py",
   "mimetype": "text/x-python",
   "name": "python",
   "nbconvert_exporter": "python",
   "pygments_lexer": "ipython3",
   "version": "3.8.3"
  }
 },
 "nbformat": 4,
 "nbformat_minor": 4
}
